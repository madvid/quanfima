{
 "cells": [
  {
   "cell_type": "markdown",
   "metadata": {},
   "source": [
    "# Run benchmark"
   ]
  },
  {
   "cell_type": "code",
   "execution_count": 1,
   "metadata": {
    "ExecuteTime": {
     "end_time": "2021-04-14T12:43:28.421287Z",
     "start_time": "2021-04-14T12:43:25.984387Z"
    },
    "execution": {
     "iopub.execute_input": "2021-04-15T12:02:31.478996Z",
     "iopub.status.busy": "2021-04-15T12:02:31.478996Z",
     "iopub.status.idle": "2021-04-15T12:02:37.748914Z",
     "shell.execute_reply": "2021-04-15T12:02:37.747877Z",
     "shell.execute_reply.started": "2021-04-15T12:02:31.478996Z"
    },
    "tags": []
   },
   "outputs": [],
   "source": [
    "import numpy as np\n",
    "import pandas as pd\n",
    "import matplotlib.pyplot as plt\n",
    "import seaborn as sns\n",
    "from scipy import ndimage as ndi\n",
    "from skimage import morphology\n",
    "from quanfima import simulation\n",
    "from quanfima import morphology as mrph\n",
    "from quanfima import utils\n",
    "from quanfima import visualization as vis\n",
    "import time\n",
    "from multiprocessing import cpu_count"
   ]
  },
  {
   "cell_type": "markdown",
   "metadata": {},
   "source": [
    "## Initialization of the result dataframe"
   ]
  },
  {
   "cell_type": "code",
   "execution_count": 3,
   "metadata": {
    "ExecuteTime": {
     "end_time": "2021-04-14T12:43:31.090883Z",
     "start_time": "2021-04-14T12:43:31.075334Z"
    },
    "execution": {
     "iopub.execute_input": "2021-04-15T12:26:06.424973Z",
     "iopub.status.busy": "2021-04-15T12:26:06.424973Z",
     "iopub.status.idle": "2021-04-15T12:26:06.448945Z",
     "shell.execute_reply": "2021-04-15T12:26:06.447968Z",
     "shell.execute_reply.started": "2021-04-15T12:26:06.424973Z"
    }
   },
   "outputs": [],
   "source": [
    "result = pd.DataFrame(columns=[\"n fibers\", \"volume\", \"radius_lim\", \"elapsed time\", \"parallelization\"])"
   ]
  },
  {
   "cell_type": "markdown",
   "metadata": {},
   "source": [
    "## CPU available "
   ]
  },
  {
   "cell_type": "code",
   "execution_count": 4,
   "metadata": {
    "ExecuteTime": {
     "end_time": "2021-04-14T12:43:32.232377Z",
     "start_time": "2021-04-14T12:43:32.216756Z"
    },
    "execution": {
     "iopub.execute_input": "2021-04-15T12:26:08.928780Z",
     "iopub.status.busy": "2021-04-15T12:26:08.928780Z",
     "iopub.status.idle": "2021-04-15T12:26:08.942773Z",
     "shell.execute_reply": "2021-04-15T12:26:08.941776Z",
     "shell.execute_reply.started": "2021-04-15T12:26:08.928780Z"
    },
    "scrolled": true
   },
   "outputs": [
    {
     "name": "stdout",
     "output_type": "stream",
     "text": [
      "nb cpu used =  18\n"
     ]
    }
   ],
   "source": [
    "n_cpu = cpu_count()\n",
    "cpu_use = int(n_cpu / 2)\n",
    "print(\"nb cpu used = \", cpu_use)"
   ]
  },
  {
   "cell_type": "markdown",
   "metadata": {},
   "source": [
    "## Parameters"
   ]
  },
  {
   "cell_type": "code",
   "execution_count": 5,
   "metadata": {
    "ExecuteTime": {
     "end_time": "2021-04-14T12:43:33.482645Z",
     "start_time": "2021-04-14T12:43:33.451399Z"
    },
    "execution": {
     "iopub.execute_input": "2021-04-15T12:26:12.310836Z",
     "iopub.status.busy": "2021-04-15T12:26:12.310836Z",
     "iopub.status.idle": "2021-04-15T12:26:12.315835Z",
     "shell.execute_reply": "2021-04-15T12:26:12.314841Z",
     "shell.execute_reply.started": "2021-04-15T12:26:12.310836Z"
    },
    "scrolled": true
   },
   "outputs": [],
   "source": [
    "lst_fibers = [1, 2, 3, 4, 5, 10, 15, 20]\n",
    "nb_run = 10"
   ]
  },
  {
   "cell_type": "markdown",
   "metadata": {},
   "source": [
    "## Batch 1 sequential"
   ]
  },
  {
   "cell_type": "code",
   "execution_count": 6,
   "metadata": {
    "ExecuteTime": {
     "end_time": "2021-04-14T12:47:40.460710Z",
     "start_time": "2021-04-14T12:43:34.654065Z"
    },
    "execution": {
     "iopub.execute_input": "2021-04-15T12:26:13.589961Z",
     "iopub.status.busy": "2021-04-15T12:26:13.589961Z",
     "iopub.status.idle": "2021-04-15T12:30:31.171256Z",
     "shell.execute_reply": "2021-04-15T12:30:31.169253Z",
     "shell.execute_reply.started": "2021-04-15T12:26:13.589961Z"
    },
    "scrolled": true
   },
   "outputs": [
    {
     "name": "stdout",
     "output_type": "stream",
     "text": [
      "1\n",
      "1\n",
      "2\n",
      "3\n",
      "4\n",
      "5\n",
      "10\n",
      "15\n",
      "20\n",
      "2\n",
      "1\n",
      "2\n",
      "3\n",
      "4\n",
      "5\n",
      "10\n",
      "15\n",
      "20\n",
      "3\n",
      "1\n",
      "2\n",
      "3\n",
      "4\n",
      "5\n",
      "10\n",
      "15\n",
      "20\n",
      "4\n",
      "1\n",
      "2\n",
      "3\n",
      "4\n",
      "5\n",
      "10\n",
      "15\n",
      "20\n",
      "5\n",
      "1\n",
      "2\n",
      "3\n",
      "4\n",
      "5\n",
      "10\n",
      "15\n",
      "20\n",
      "6\n",
      "1\n",
      "2\n",
      "3\n",
      "4\n",
      "5\n",
      "10\n",
      "15\n",
      "20\n",
      "7\n",
      "1\n",
      "2\n",
      "3\n",
      "4\n",
      "5\n",
      "10\n",
      "15\n",
      "20\n",
      "8\n",
      "1\n",
      "2\n",
      "3\n",
      "4\n",
      "5\n",
      "10\n",
      "15\n",
      "20\n",
      "9\n",
      "1\n",
      "2\n",
      "3\n",
      "4\n",
      "5\n",
      "10\n",
      "15\n",
      "20\n",
      "10\n",
      "1\n",
      "2\n",
      "3\n",
      "4\n",
      "5\n",
      "10\n",
      "15\n",
      "20\n",
      "batch sequential 1 ended\n"
     ]
    }
   ],
   "source": [
    "for iteration in range(1, nb_run + 1):\n",
    "    print(iteration)\n",
    "    for n_fib in lst_fibers:\n",
    "        print(n_fib)\n",
    "        start = time.perf_counter()\n",
    "        res = simulation.simulate_fibers((128, 128, 128),\n",
    "                                         n_fibers=n_fib,\n",
    "                                         max_fails=100,\n",
    "                                         radius_lim=(2, 8),\n",
    "                                         gap_lim=(3, 5))\n",
    "        end = time.perf_counter()\n",
    "        result = result.append({\"n fibers\": n_fib, \"volume\": (128, 128, 128), \"radius_lim\": (\n",
    "            2, 8), \"elapsed time\": end - start, \"parallelization\": \"no\"}, ignore_index=True)\n",
    "\n",
    "print(\"batch sequential 1 ended\")"
   ]
  },
  {
   "cell_type": "markdown",
   "metadata": {},
   "source": [
    "## Batch 2 sequential"
   ]
  },
  {
   "cell_type": "code",
   "execution_count": 7,
   "metadata": {
    "ExecuteTime": {
     "end_time": "2021-04-14T09:48:08.812397Z",
     "start_time": "2021-04-14T09:40:41.304694Z"
    },
    "execution": {
     "iopub.execute_input": "2021-04-15T12:30:31.173257Z",
     "iopub.status.busy": "2021-04-15T12:30:31.173257Z",
     "iopub.status.idle": "2021-04-15T12:43:38.148894Z",
     "shell.execute_reply": "2021-04-15T12:43:38.148894Z",
     "shell.execute_reply.started": "2021-04-15T12:30:31.173257Z"
    }
   },
   "outputs": [
    {
     "name": "stdout",
     "output_type": "stream",
     "text": [
      "1\n",
      "1\n",
      "2\n",
      "3\n",
      "4\n",
      "5\n",
      "10\n",
      "15\n",
      "20\n",
      "2\n",
      "1\n",
      "2\n",
      "3\n",
      "4\n",
      "5\n",
      "10\n",
      "15\n",
      "20\n",
      "3\n",
      "1\n",
      "2\n",
      "3\n",
      "4\n",
      "5\n",
      "10\n",
      "15\n",
      "20\n",
      "4\n",
      "1\n",
      "2\n",
      "3\n",
      "4\n",
      "5\n",
      "10\n",
      "15\n",
      "20\n",
      "5\n",
      "1\n",
      "2\n",
      "3\n",
      "4\n",
      "5\n",
      "10\n",
      "15\n",
      "20\n",
      "6\n",
      "1\n",
      "2\n",
      "3\n",
      "4\n",
      "5\n",
      "10\n",
      "15\n",
      "20\n",
      "7\n",
      "1\n",
      "2\n",
      "3\n",
      "4\n",
      "5\n",
      "10\n",
      "15\n",
      "20\n",
      "8\n",
      "1\n",
      "2\n",
      "3\n",
      "4\n",
      "5\n",
      "10\n",
      "15\n",
      "20\n",
      "9\n",
      "1\n",
      "2\n",
      "3\n",
      "4\n",
      "5\n",
      "10\n",
      "15\n",
      "20\n",
      "10\n",
      "1\n",
      "2\n",
      "3\n",
      "4\n",
      "5\n",
      "10\n",
      "15\n",
      "20\n",
      "batch sequential 2 ended\n"
     ]
    }
   ],
   "source": [
    "for iteration in range(1, nb_run + 1):\n",
    "    print(iteration)\n",
    "    for n_fib in lst_fibers:\n",
    "        print(n_fib)\n",
    "        start = time.perf_counter()\n",
    "        res = simulation.simulate_fibers((256, 256, 256),\n",
    "                                         n_fibers=n_fib,\n",
    "                                         max_fails=100,\n",
    "                                         radius_lim=(2, 8),\n",
    "                                         gap_lim=(3, 5))\n",
    "        end = time.perf_counter()\n",
    "        result = result.append({\"n fibers\": n_fib, \"volume\": (256, 256, 256), \"radius_lim\": (\n",
    "            2, 8), \"elapsed time\": end - start, \"parallelization\": \"no\"}, ignore_index=True)\n",
    "\n",
    "print(\"batch sequential 2 ended\")"
   ]
  },
  {
   "cell_type": "markdown",
   "metadata": {},
   "source": [
    "## Batch 1 CPU parallelized"
   ]
  },
  {
   "cell_type": "code",
   "execution_count": 8,
   "metadata": {
    "ExecuteTime": {
     "end_time": "2021-04-14T09:52:20.757118Z",
     "start_time": "2021-04-14T09:48:08.814436Z"
    },
    "execution": {
     "iopub.execute_input": "2021-04-15T12:43:38.148894Z",
     "iopub.status.busy": "2021-04-15T12:43:38.148894Z",
     "iopub.status.idle": "2021-04-15T13:41:47.664265Z",
     "shell.execute_reply": "2021-04-15T13:41:47.664265Z",
     "shell.execute_reply.started": "2021-04-15T12:43:38.148894Z"
    }
   },
   "outputs": [
    {
     "name": "stdout",
     "output_type": "stream",
     "text": [
      "1\n",
      "1\n",
      "2\n",
      "3\n",
      "4\n",
      "5\n",
      "10\n",
      "15\n",
      "20\n",
      "2\n",
      "1\n",
      "2\n",
      "3\n",
      "4\n",
      "5\n",
      "10\n",
      "15\n",
      "20\n",
      "3\n",
      "1\n",
      "2\n",
      "3\n",
      "4\n",
      "5\n",
      "10\n",
      "15\n",
      "20\n",
      "4\n",
      "1\n",
      "2\n",
      "3\n",
      "4\n",
      "5\n",
      "10\n",
      "15\n",
      "20\n",
      "5\n",
      "1\n",
      "2\n",
      "3\n",
      "4\n",
      "5\n",
      "10\n",
      "15\n",
      "20\n",
      "6\n",
      "1\n",
      "2\n",
      "3\n",
      "4\n",
      "5\n",
      "10\n",
      "15\n",
      "20\n",
      "7\n",
      "1\n",
      "2\n",
      "3\n",
      "4\n",
      "5\n",
      "10\n",
      "15\n",
      "20\n",
      "8\n",
      "1\n",
      "2\n",
      "3\n",
      "4\n",
      "5\n",
      "10\n",
      "15\n",
      "20\n",
      "9\n",
      "1\n",
      "2\n",
      "3\n",
      "4\n",
      "5\n",
      "10\n",
      "15\n",
      "20\n",
      "10\n",
      "1\n",
      "2\n",
      "3\n",
      "4\n",
      "5\n",
      "10\n",
      "15\n",
      "20\n",
      "batch CPU 1 ended\n"
     ]
    }
   ],
   "source": [
    "for iteration in range(1, nb_run + 1):\n",
    "    print(iteration)\n",
    "    for n_fib in lst_fibers:\n",
    "        print(n_fib)\n",
    "        start = time.perf_counter()\n",
    "        res = simulation.simulate_fibers((128, 128, 128),\n",
    "                                         n_fibers=n_fib,\n",
    "                                         max_fails=100,\n",
    "                                         radius_lim=(2, 8),\n",
    "                                         gap_lim=(3, 5),\n",
    "                                         parallelization=\"CPU\")\n",
    "        end = time.perf_counter()\n",
    "        result = result.append({\"n fibers\": n_fib, \"volume\": (128, 128, 128), \"radius_lim\": (\n",
    "            2, 8), \"elapsed time\": end - start, \"parallelization\": f\"yes ({cpu_use})\"}, ignore_index=True)\n",
    "\n",
    "#print(\"\\n\\n\", result)\n",
    "print(\"batch CPU 1 ended\")"
   ]
  },
  {
   "cell_type": "markdown",
   "metadata": {},
   "source": [
    "## Batch 2 CPU parallelized"
   ]
  },
  {
   "cell_type": "code",
   "execution_count": 9,
   "metadata": {
    "ExecuteTime": {
     "end_time": "2021-04-14T09:52:20.757118Z",
     "start_time": "2021-04-14T09:36:50.488Z"
    },
    "execution": {
     "iopub.execute_input": "2021-04-15T13:41:47.664265Z",
     "iopub.status.busy": "2021-04-15T13:41:47.664265Z",
     "iopub.status.idle": "2021-04-15T14:40:58.186930Z",
     "shell.execute_reply": "2021-04-15T14:40:58.185060Z",
     "shell.execute_reply.started": "2021-04-15T13:41:47.664265Z"
    }
   },
   "outputs": [
    {
     "name": "stdout",
     "output_type": "stream",
     "text": [
      "1\n",
      "1\n",
      "2\n",
      "3\n",
      "4\n",
      "5\n",
      "10\n",
      "15\n",
      "20\n",
      "2\n",
      "1\n",
      "2\n",
      "3\n",
      "4\n",
      "5\n",
      "10\n",
      "15\n",
      "20\n",
      "3\n",
      "1\n",
      "2\n",
      "3\n",
      "4\n",
      "5\n",
      "10\n",
      "15\n",
      "20\n",
      "4\n",
      "1\n",
      "2\n",
      "3\n",
      "4\n",
      "5\n",
      "10\n",
      "15\n",
      "20\n",
      "5\n",
      "1\n",
      "2\n",
      "3\n",
      "4\n",
      "5\n",
      "10\n",
      "15\n",
      "20\n",
      "6\n",
      "1\n",
      "2\n",
      "3\n",
      "4\n",
      "5\n",
      "10\n",
      "15\n",
      "20\n",
      "7\n",
      "1\n",
      "2\n",
      "3\n",
      "4\n",
      "5\n",
      "10\n",
      "15\n",
      "20\n",
      "8\n",
      "1\n",
      "2\n",
      "3\n",
      "4\n",
      "5\n",
      "10\n",
      "15\n",
      "20\n",
      "9\n",
      "1\n",
      "2\n",
      "3\n",
      "4\n",
      "5\n",
      "10\n",
      "15\n",
      "20\n",
      "10\n",
      "1\n",
      "2\n",
      "3\n",
      "4\n",
      "5\n",
      "10\n",
      "15\n",
      "20\n",
      "batch CPU 2 ended\n"
     ]
    }
   ],
   "source": [
    "for iteration in range(1, nb_run + 1):\n",
    "    print(iteration)\n",
    "    for n_fib in lst_fibers:\n",
    "        print(n_fib)\n",
    "        start = time.perf_counter()\n",
    "        res = simulation.simulate_fibers((256, 256, 256), \n",
    "                                         n_fibers=n_fib, \n",
    "                                         max_fails=100,\n",
    "                                         radius_lim=(2, 8), \n",
    "                                         gap_lim=(3, 5), \n",
    "                                         parallelization=\"CPU\")\n",
    "        end = time.perf_counter()\n",
    "        result = result.append({\"n fibers\": n_fib, \"volume\": (256, 256, 256), \"radius_lim\": (\n",
    "            2, 8), \"elapsed time\": end - start, \"parallelization\": f\"yes ({cpu_use})\"}, ignore_index=True)\n",
    "\n",
    "#print(\"\\n\\n\", result)\n",
    "print(\"batch CPU 2 ended\")"
   ]
  },
  {
   "cell_type": "markdown",
   "metadata": {},
   "source": []
  },
  {
   "cell_type": "code",
   "execution_count": null,
   "metadata": {
    "ExecuteTime": {
     "end_time": "2021-04-14T09:52:20.757118Z",
     "start_time": "2021-04-14T09:36:51.529Z"
    }
   },
   "outputs": [],
   "source": [
    "#for iteration in range(1, nb_run + 1):\n",
    "#\tfor n_fib in [1, 2, 3, 4, 5, ]:\n",
    "#\t\tstart = time.perf_counter()\n",
    "#\t\tvolume, lat_ref, azth_ref, diameter, _, _ = \\\n",
    "#\t\t  simulation.simulate_fibers((128,128,128), n_fibers=n_fib, max_fails=100,\n",
    "#\t\t\t\t\t\t\t\t\t radius_lim=(8, 16), gap_lim=(3,5))\n",
    "#\t\tend = time.perf_counter()\n",
    "#\t\tresult=result.append({\"n fibers\":n_fib, \"volume\":(128,128,128), \"radius_lim\":(16,24), \"elapsed time\":end - start, \"parallelization\": \"no\"}, ignore_index=True)\n",
    "\n",
    "#print(\"batch 5 fin\")\n"
   ]
  },
  {
   "cell_type": "markdown",
   "metadata": {},
   "source": []
  },
  {
   "cell_type": "code",
   "execution_count": null,
   "metadata": {
    "ExecuteTime": {
     "end_time": "2021-04-14T09:52:20.757118Z",
     "start_time": "2021-04-14T09:36:53.240Z"
    }
   },
   "outputs": [],
   "source": [
    "#for iteration in range(1, nb_run + 1):\n",
    "#\tfor n_fib in lst_fibers:\n",
    "#\t\tstart = time.perf_counter()\n",
    "#\t\tvolume, lat_ref, azth_ref, diameter, _, _ = \\\n",
    "#\t\t  simulation.simulate_fibers((128,128,128), n_fibers=n_fib, max_fails=100,\n",
    "#\t\t\t\t\t\t\t\t\t radius_lim=(8, 16), gap_lim=(3,5), parallelization=\"CPU\")\n",
    "#\t\tend = time.perf_counter()\n",
    "#\t\tresult=result.append({\"n fibers\":n_fib, \"volume\":(128,128,128), \"radius_lim\":(16,24), \"elapsed time\":end - start, \"parallelization\": f\"yes ({cpu_use})\"}, ignore_index=True)\n",
    "#print(\"batch 6 fin\")\n"
   ]
  },
  {
   "cell_type": "code",
   "execution_count": 10,
   "metadata": {
    "ExecuteTime": {
     "end_time": "2021-04-14T09:52:20.757118Z",
     "start_time": "2021-04-14T09:36:53.792Z"
    },
    "execution": {
     "iopub.execute_input": "2021-04-15T14:40:58.187957Z",
     "iopub.status.busy": "2021-04-15T14:40:58.187957Z",
     "iopub.status.idle": "2021-04-15T14:40:58.201951Z",
     "shell.execute_reply": "2021-04-15T14:40:58.199952Z",
     "shell.execute_reply.started": "2021-04-15T14:40:58.187957Z"
    }
   },
   "outputs": [],
   "source": [
    "result.to_csv(\"benchmark_parallelization.csv\")\n",
    "#exit()"
   ]
  },
  {
   "cell_type": "markdown",
   "metadata": {},
   "source": [
    "# Results "
   ]
  },
  {
   "cell_type": "code",
   "execution_count": 17,
   "metadata": {
    "ExecuteTime": {
     "end_time": "2021-04-14T09:52:20.757118Z",
     "start_time": "2021-04-14T09:36:56.135Z"
    },
    "execution": {
     "iopub.execute_input": "2021-04-15T14:43:07.693932Z",
     "iopub.status.busy": "2021-04-15T14:43:07.692931Z",
     "iopub.status.idle": "2021-04-15T14:43:07.710923Z",
     "shell.execute_reply": "2021-04-15T14:43:07.708925Z",
     "shell.execute_reply.started": "2021-04-15T14:43:07.693932Z"
    },
    "tags": []
   },
   "outputs": [],
   "source": [
    "import matplotlib.pyplot as plt\n",
    "import seaborn as sns"
   ]
  },
  {
   "cell_type": "code",
   "execution_count": 18,
   "metadata": {
    "ExecuteTime": {
     "end_time": "2021-04-14T09:52:20.757118Z",
     "start_time": "2021-04-14T09:36:57.015Z"
    },
    "execution": {
     "iopub.execute_input": "2021-04-15T14:43:08.783278Z",
     "iopub.status.busy": "2021-04-15T14:43:08.783278Z",
     "iopub.status.idle": "2021-04-15T14:43:08.814846Z",
     "shell.execute_reply": "2021-04-15T14:43:08.813852Z",
     "shell.execute_reply.started": "2021-04-15T14:43:08.783278Z"
    },
    "tags": []
   },
   "outputs": [],
   "source": [
    "data = pd.read_csv(\"benchmark_parallelization.csv\")"
   ]
  },
  {
   "cell_type": "markdown",
   "metadata": {},
   "source": [
    "## Results for 128x128x128 "
   ]
  },
  {
   "cell_type": "code",
   "execution_count": 19,
   "metadata": {
    "ExecuteTime": {
     "end_time": "2021-04-14T09:52:20.772711Z",
     "start_time": "2021-04-14T09:37:00.991Z"
    },
    "execution": {
     "iopub.execute_input": "2021-04-15T14:43:10.129040Z",
     "iopub.status.busy": "2021-04-15T14:43:10.128039Z",
     "iopub.status.idle": "2021-04-15T14:43:10.149038Z",
     "shell.execute_reply": "2021-04-15T14:43:10.148032Z",
     "shell.execute_reply.started": "2021-04-15T14:43:10.129040Z"
    },
    "tags": []
   },
   "outputs": [],
   "source": [
    "filter_data = data[(data.volume == \"(128, 128, 128)\") & (data.radius_lim == \"(2, 8)\")]"
   ]
  },
  {
   "cell_type": "code",
   "execution_count": 20,
   "metadata": {
    "ExecuteTime": {
     "end_time": "2021-04-14T09:52:20.772711Z",
     "start_time": "2021-04-14T09:37:01.735Z"
    },
    "execution": {
     "iopub.execute_input": "2021-04-15T14:43:10.803132Z",
     "iopub.status.busy": "2021-04-15T14:43:10.803132Z",
     "iopub.status.idle": "2021-04-15T14:43:11.516289Z",
     "shell.execute_reply": "2021-04-15T14:43:11.514288Z",
     "shell.execute_reply.started": "2021-04-15T14:43:10.803132Z"
    },
    "scrolled": true,
    "tags": []
   },
   "outputs": [
    {
     "data": {
      "text/plain": [
       "<AxesSubplot:xlabel='n fibers', ylabel='elapsed time'>"
      ]
     },
     "execution_count": 20,
     "metadata": {},
     "output_type": "execute_result"
    },
    {
     "data": {
      "image/png": "[encoded data removed]",
      "text/plain": [
       "<Figure size 432x288 with 1 Axes>"
      ]
     },
     "metadata": {
      "needs_background": "light"
     },
     "output_type": "display_data"
    }
   ],
   "source": [
    "sns.lineplot(data=filter_data, x=\"n fibers\", y='elapsed time', hue=\"parallelization\")"
   ]
  },
  {
   "cell_type": "markdown",
   "metadata": {},
   "source": [
    "## Results for 256x256x256 "
   ]
  },
  {
   "cell_type": "code",
   "execution_count": 21,
   "metadata": {
    "ExecuteTime": {
     "end_time": "2021-04-14T09:52:20.772711Z",
     "start_time": "2021-04-14T09:37:04.414Z"
    },
    "execution": {
     "iopub.execute_input": "2021-04-15T14:43:23.502128Z",
     "iopub.status.busy": "2021-04-15T14:43:23.502128Z",
     "iopub.status.idle": "2021-04-15T14:43:23.523092Z",
     "shell.execute_reply": "2021-04-15T14:43:23.522131Z",
     "shell.execute_reply.started": "2021-04-15T14:43:23.502128Z"
    },
    "tags": []
   },
   "outputs": [],
   "source": [
    "filter_data2 = data[(data.volume == \"(256, 256, 256)\") & (data.radius_lim == \"(2, 8)\")]"
   ]
  },
  {
   "cell_type": "code",
   "execution_count": 22,
   "metadata": {
    "ExecuteTime": {
     "end_time": "2021-04-14T09:52:20.772711Z",
     "start_time": "2021-04-14T09:37:05.031Z"
    },
    "execution": {
     "iopub.execute_input": "2021-04-15T14:43:24.226103Z",
     "iopub.status.busy": "2021-04-15T14:43:24.226103Z",
     "iopub.status.idle": "2021-04-15T14:43:24.880844Z",
     "shell.execute_reply": "2021-04-15T14:43:24.879845Z",
     "shell.execute_reply.started": "2021-04-15T14:43:24.226103Z"
    },
    "tags": []
   },
   "outputs": [
    {
     "data": {
      "text/plain": [
       "<AxesSubplot:xlabel='n fibers', ylabel='elapsed time'>"
      ]
     },
     "execution_count": 22,
     "metadata": {},
     "output_type": "execute_result"
    },
    {
     "data": {
      "image/png": "[encoded data removed]",
      "text/plain": [
       "<Figure size 432x288 with 1 Axes>"
      ]
     },
     "metadata": {
      "needs_background": "light"
     },
     "output_type": "display_data"
    }
   ],
   "source": [
    "sns.lineplot(data=filter_data2, x=\"n fibers\", y='elapsed time', hue=\"parallelization\")"
   ]
  },
  {
   "cell_type": "code",
   "execution_count": null,
   "metadata": {},
   "outputs": [],
   "source": []
  }
 ],
 "metadata": {
  "hide_input": false,
  "kernelspec": {
   "display_name": "Python 3",
   "language": "python",
   "name": "python3"
  },
  "language_info": {
   "codemirror_mode": {
    "name": "ipython",
    "version": 3
   },
   "file_extension": ".py",
   "mimetype": "text/x-python",
   "name": "python",
   "nbconvert_exporter": "python",
   "pygments_lexer": "ipython3",
   "version": "3.8.8"
  },
  "latex_envs": {
   "LaTeX_envs_menu_present": true,
   "autoclose": false,
   "autocomplete": true,
   "bibliofile": "biblio.bib",
   "cite_by": "apalike",
   "current_citInitial": 1,
   "eqLabelWithNumbers": true,
   "eqNumInitial": 1,
   "hotkeys": {
    "equation": "Ctrl-E",
    "itemize": "Ctrl-I"
   },
   "labels_anchors": false,
   "latex_user_defs": false,
   "report_style_numbering": false,
   "user_envs_cfg": false
  },
  "toc": {
   "base_numbering": 1,
   "nav_menu": {},
   "number_sections": true,
   "sideBar": true,
   "skip_h1_title": false,
   "title_cell": "Table of Contents",
   "title_sidebar": "Contents",
   "toc_cell": false,
   "toc_position": {},
   "toc_section_display": true,
   "toc_window_display": false
  }
 },
 "nbformat": 4,
 "nbformat_minor": 4
}
