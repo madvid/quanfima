{
 "cells": [
  {
   "cell_type": "markdown",
   "metadata": {},
   "source": [
    "# Run benchmark"
   ]
  },
  {
   "cell_type": "code",
   "execution_count": 1,
   "metadata": {
    "ExecuteTime": {
     "end_time": "2021-04-14T12:43:28.421287Z",
     "start_time": "2021-04-14T12:43:25.984387Z"
    }
   },
   "outputs": [],
   "source": [
    "import numpy as np\n",
    "import pandas as pd\n",
    "import matplotlib.pyplot as plt\n",
    "import seaborn as sns\n",
    "from scipy import ndimage as ndi\n",
    "from skimage import morphology\n",
    "from quanfima import simulation\n",
    "from quanfima import morphology as mrph\n",
    "from quanfima import utils\n",
    "from quanfima import visualization as vis\n",
    "import time\n",
    "from multiprocessing import cpu_count"
   ]
  },
  {
   "cell_type": "markdown",
   "metadata": {},
   "source": [
    "## Initialization of the result dataframe"
   ]
  },
  {
   "cell_type": "code",
   "execution_count": 2,
   "metadata": {
    "ExecuteTime": {
     "end_time": "2021-04-14T12:43:31.090883Z",
     "start_time": "2021-04-14T12:43:31.075334Z"
    }
   },
   "outputs": [],
   "source": [
    "result = pd.DataFrame(columns=[\"n fibers\", \"volume\", \"radius_lim\", \"elapsed time\", \"parallelization\"])"
   ]
  },
  {
   "cell_type": "markdown",
   "metadata": {},
   "source": [
    "## CPU available "
   ]
  },
  {
   "cell_type": "code",
   "execution_count": 3,
   "metadata": {
    "ExecuteTime": {
     "end_time": "2021-04-14T12:43:32.232377Z",
     "start_time": "2021-04-14T12:43:32.216756Z"
    },
    "scrolled": true
   },
   "outputs": [
    {
     "name": "stdout",
     "output_type": "stream",
     "text": [
      "nb cpu used =  2\n"
     ]
    }
   ],
   "source": [
    "n_cpu = cpu_count()\n",
    "cpu_use = int(n_cpu / 2)\n",
    "print(\"nb cpu used = \", cpu_use)"
   ]
  },
  {
   "cell_type": "markdown",
   "metadata": {},
   "source": [
    "## Parameters"
   ]
  },
  {
   "cell_type": "code",
   "execution_count": 4,
   "metadata": {
    "ExecuteTime": {
     "end_time": "2021-04-14T12:43:33.482645Z",
     "start_time": "2021-04-14T12:43:33.451399Z"
    },
    "scrolled": true
   },
   "outputs": [],
   "source": [
    "lst_fibers = [1, 2, 3, 4, 5, 10, 15, 20]\n",
    "nb_run = 10"
   ]
  },
  {
   "cell_type": "markdown",
   "metadata": {},
   "source": [
    "## Batch 1 sequential"
   ]
  },
  {
   "cell_type": "code",
   "execution_count": 5,
   "metadata": {
    "ExecuteTime": {
     "end_time": "2021-04-14T12:47:40.460710Z",
     "start_time": "2021-04-14T12:43:34.654065Z"
    },
    "scrolled": true
   },
   "outputs": [
    {
     "name": "stdout",
     "output_type": "stream",
     "text": [
      "1\n",
      "1\n",
      "2_generated: 0/1 -- n_fails: 0/100\n",
      "3_generated: 1/2 -- n_fails: 0/100\n",
      "4_generated: 2/3 -- n_fails: 1/100\n",
      "5_generated: 3/4 -- n_fails: 0/100\n",
      "10generated: 4/5 -- n_fails: 0/100\n",
      "15generated: 9/10 -- n_fails: 0/100\n",
      "20generated: 14/15 -- n_fails: 0/100\n",
      "2_generated: 19/20 -- n_fails: 0/100\n",
      "1\n",
      "2_generated: 0/1 -- n_fails: 0/100\n",
      "3_generated: 1/2 -- n_fails: 0/100\n",
      "4_generated: 2/3 -- n_fails: 0/100\n",
      "5_generated: 3/4 -- n_fails: 0/100\n",
      "10generated: 4/5 -- n_fails: 0/100\n",
      "15generated: 9/10 -- n_fails: 0/100\n",
      "20generated: 14/15 -- n_fails: 2/100\n",
      "3_generated: 19/20 -- n_fails: 0/100\n",
      "1\n",
      "2_generated: 0/1 -- n_fails: 0/100\n",
      "3_generated: 1/2 -- n_fails: 1/100\n",
      "4_generated: 2/3 -- n_fails: 0/100\n",
      "5_generated: 3/4 -- n_fails: 0/100\n",
      "10generated: 4/5 -- n_fails: 0/100\n",
      "15generated: 9/10 -- n_fails: 4/100\n",
      "20generated: 14/15 -- n_fails: 1/100\n",
      "4_generated: 19/20 -- n_fails: 0/100\n",
      "1\n",
      "2_generated: 0/1 -- n_fails: 0/100\n",
      "3_generated: 1/2 -- n_fails: 0/100\n",
      "4_generated: 2/3 -- n_fails: 0/100\n",
      "5_generated: 3/4 -- n_fails: 0/100\n",
      "10generated: 4/5 -- n_fails: 0/100\n",
      "15generated: 9/10 -- n_fails: 0/100\n",
      "20generated: 14/15 -- n_fails: 1/100\n",
      "5_generated: 19/20 -- n_fails: 2/100\n",
      "1\n",
      "2_generated: 0/1 -- n_fails: 0/100\n",
      "3_generated: 1/2 -- n_fails: 0/100\n",
      "4_generated: 2/3 -- n_fails: 0/100\n",
      "5_generated: 3/4 -- n_fails: 0/100\n",
      "10generated: 4/5 -- n_fails: 1/100\n",
      "15generated: 9/10 -- n_fails: 1/100\n",
      "20generated: 14/15 -- n_fails: 2/1000\n",
      "6_generated: 19/20 -- n_fails: 5/100\n",
      "1\n",
      "2_generated: 0/1 -- n_fails: 0/100\n",
      "3_generated: 1/2 -- n_fails: 0/100\n",
      "4_generated: 2/3 -- n_fails: 0/100\n",
      "5_generated: 3/4 -- n_fails: 0/100\n",
      "10generated: 4/5 -- n_fails: 0/100\n",
      "15generated: 9/10 -- n_fails: 1/100\n",
      "20generated: 14/15 -- n_fails: 0/100\n",
      "7_generated: 19/20 -- n_fails: 2/100\n",
      "1\n",
      "2_generated: 0/1 -- n_fails: 0/100\n",
      "3_generated: 1/2 -- n_fails: 0/100\n",
      "4_generated: 2/3 -- n_fails: 0/100\n",
      "5_generated: 3/4 -- n_fails: 0/100\n",
      "10generated: 4/5 -- n_fails: 0/100\n",
      "15generated: 9/10 -- n_fails: 0/100\n",
      "20generated: 14/15 -- n_fails: 2/100\n",
      "8_generated: 19/20 -- n_fails: 0/100\n",
      "1\n",
      "2_generated: 0/1 -- n_fails: 0/100\n",
      "3_generated: 1/2 -- n_fails: 0/100\n",
      "4_generated: 2/3 -- n_fails: 0/100\n",
      "5_generated: 3/4 -- n_fails: 0/100\n",
      "10generated: 4/5 -- n_fails: 0/100\n",
      "15generated: 9/10 -- n_fails: 0/100\n",
      "20generated: 14/15 -- n_fails: 0/100\n",
      "9_generated: 19/20 -- n_fails: 0/100\n",
      "1\n",
      "2_generated: 0/1 -- n_fails: 0/100\n",
      "3_generated: 1/2 -- n_fails: 0/100\n",
      "4_generated: 2/3 -- n_fails: 1/100\n",
      "5_generated: 3/4 -- n_fails: 0/100\n",
      "10generated: 4/5 -- n_fails: 0/100\n",
      "15generated: 9/10 -- n_fails: 0/100\n",
      "20generated: 14/15 -- n_fails: 0/100\n",
      "10generated: 19/20 -- n_fails: 1/100\n",
      "1\n",
      "2_generated: 0/1 -- n_fails: 0/100\n",
      "3_generated: 1/2 -- n_fails: 0/100\n",
      "4_generated: 2/3 -- n_fails: 0/100\n",
      "5_generated: 3/4 -- n_fails: 0/100\n",
      "10generated: 4/5 -- n_fails: 0/100\n",
      "15generated: 9/10 -- n_fails: 2/100\n",
      "20generated: 14/15 -- n_fails: 1/100\n",
      "batch sequential 1 endedfails: 2/100\n"
     ]
    }
   ],
   "source": [
    "for iteration in range(1, nb_run + 1):\n",
    "    print(iteration)\n",
    "    for n_fib in lst_fibers:\n",
    "        print(n_fib)\n",
    "        start = time.perf_counter()\n",
    "        res = simulation.simulate_fibers((128, 128, 128),\n",
    "                                         n_fibers=n_fib,\n",
    "                                         max_fails=100,\n",
    "                                         radius_lim=(2, 8),\n",
    "                                         gap_lim=(3, 5))\n",
    "        end = time.perf_counter()\n",
    "        result = result.append({\"n fibers\": n_fib, \"volume\": (128, 128, 128), \"radius_lim\": (\n",
    "            2, 8), \"elapsed time\": end - start, \"parallelization\": \"no\"}, ignore_index=True)\n",
    "\n",
    "print(\"batch sequential 1 ended\")"
   ]
  },
  {
   "cell_type": "markdown",
   "metadata": {},
   "source": [
    "## Batch 2 sequential"
   ]
  },
  {
   "cell_type": "code",
   "execution_count": 6,
   "metadata": {
    "ExecuteTime": {
     "end_time": "2021-04-14T09:48:08.812397Z",
     "start_time": "2021-04-14T09:40:41.304694Z"
    }
   },
   "outputs": [
    {
     "name": "stdout",
     "output_type": "stream",
     "text": [
      "1\n",
      "1\n",
      "2_generated: 0/1 -- n_fails: 0/100\n",
      "3_generated: 1/2 -- n_fails: 0/100\n",
      "4_generated: 2/3 -- n_fails: 0/100\n",
      "5_generated: 3/4 -- n_fails: 0/100\n",
      "10generated: 4/5 -- n_fails: 0/100\n",
      "15generated: 9/10 -- n_fails: 0/100\n",
      "20generated: 14/15 -- n_fails: 0/100\n",
      "2_generated: 19/20 -- n_fails: 0/100\n",
      "1\n",
      "2_generated: 0/1 -- n_fails: 0/100\n",
      "3_generated: 1/2 -- n_fails: 0/100\n",
      "4_generated: 2/3 -- n_fails: 0/100\n",
      "5_generated: 3/4 -- n_fails: 0/100\n",
      "10generated: 4/5 -- n_fails: 0/100\n",
      "15generated: 9/10 -- n_fails: 0/100\n",
      "20generated: 14/15 -- n_fails: 0/100\n",
      "3_generated: 19/20 -- n_fails: 0/100\n",
      "1\n",
      "2_generated: 0/1 -- n_fails: 0/100\n",
      "3_generated: 1/2 -- n_fails: 0/100\n",
      "4_generated: 2/3 -- n_fails: 0/100\n",
      "5_generated: 3/4 -- n_fails: 0/100\n",
      "10generated: 4/5 -- n_fails: 0/100\n",
      "15generated: 9/10 -- n_fails: 0/100\n",
      "20generated: 14/15 -- n_fails: 0/100\n",
      "4_generated: 19/20 -- n_fails: 0/100\n",
      "1\n",
      "2_generated: 0/1 -- n_fails: 0/100\n",
      "3_generated: 1/2 -- n_fails: 0/100\n",
      "4_generated: 2/3 -- n_fails: 0/100\n",
      "5_generated: 3/4 -- n_fails: 0/100\n",
      "10generated: 4/5 -- n_fails: 1/100\n",
      "15generated: 9/10 -- n_fails: 0/100\n",
      "20generated: 14/15 -- n_fails: 0/100\n",
      "5_generated: 19/20 -- n_fails: 1/100\n",
      "1\n",
      "2_generated: 0/1 -- n_fails: 0/100\n",
      "3_generated: 1/2 -- n_fails: 0/100\n",
      "4_generated: 2/3 -- n_fails: 0/100\n",
      "5_generated: 3/4 -- n_fails: 0/100\n",
      "10generated: 4/5 -- n_fails: 0/100\n",
      "15generated: 9/10 -- n_fails: 1/100\n",
      "20generated: 14/15 -- n_fails: 0/100\n",
      "6_generated: 19/20 -- n_fails: 0/100\n",
      "1\n",
      "2_generated: 0/1 -- n_fails: 0/100\n",
      "3_generated: 1/2 -- n_fails: 0/100\n",
      "4_generated: 2/3 -- n_fails: 0/100\n",
      "5_generated: 3/4 -- n_fails: 0/100\n",
      "10generated: 4/5 -- n_fails: 1/100\n",
      "15generated: 9/10 -- n_fails: 0/100\n",
      "20generated: 14/15 -- n_fails: 0/100\n",
      "7_generated: 19/20 -- n_fails: 1/100\n",
      "1\n",
      "2_generated: 0/1 -- n_fails: 0/100\n",
      "3_generated: 1/2 -- n_fails: 1/100\n",
      "4_generated: 2/3 -- n_fails: 0/100\n",
      "5_generated: 3/4 -- n_fails: 0/100\n",
      "10generated: 4/5 -- n_fails: 0/100\n",
      "15generated: 9/10 -- n_fails: 0/100\n",
      "20generated: 14/15 -- n_fails: 0/100\n",
      "8_generated: 19/20 -- n_fails: 0/100\n",
      "1\n",
      "2_generated: 0/1 -- n_fails: 0/100\n",
      "3_generated: 1/2 -- n_fails: 1/100\n",
      "4_generated: 2/3 -- n_fails: 0/100\n",
      "5_generated: 3/4 -- n_fails: 0/100\n",
      "10generated: 4/5 -- n_fails: 0/100\n",
      "15generated: 9/10 -- n_fails: 0/100\n",
      "20generated: 14/15 -- n_fails: 0/100\n",
      "9_generated: 19/20 -- n_fails: 1/100\n",
      "1\n",
      "2_generated: 0/1 -- n_fails: 0/100\n",
      "3_generated: 1/2 -- n_fails: 0/100\n",
      "4_generated: 2/3 -- n_fails: 0/100\n",
      "5_generated: 3/4 -- n_fails: 0/100\n",
      "10generated: 4/5 -- n_fails: 0/100\n",
      "15generated: 9/10 -- n_fails: 0/100\n",
      "20generated: 14/15 -- n_fails: 2/100\n",
      "10generated: 19/20 -- n_fails: 0/100\n",
      "1\n",
      "2_generated: 0/1 -- n_fails: 0/100\n",
      "3_generated: 1/2 -- n_fails: 0/100\n",
      "4_generated: 2/3 -- n_fails: 0/100\n",
      "5_generated: 3/4 -- n_fails: 0/100\n",
      "10generated: 4/5 -- n_fails: 0/100\n",
      "15generated: 9/10 -- n_fails: 0/100\n",
      "20generated: 14/15 -- n_fails: 0/100\n",
      "batch sequential 2 endedfails: 0/100\n"
     ]
    }
   ],
   "source": [
    "for iteration in range(1, nb_run + 1):\n",
    "    print(iteration)\n",
    "    for n_fib in lst_fibers:\n",
    "        print(n_fib)\n",
    "        start = time.perf_counter()\n",
    "        res = simulation.simulate_fibers((256, 256, 256),\n",
    "                                         n_fibers=n_fib,\n",
    "                                         max_fails=100,\n",
    "                                         radius_lim=(2, 8),\n",
    "                                         gap_lim=(3, 5))\n",
    "        end = time.perf_counter()\n",
    "        result = result.append({\"n fibers\": n_fib, \"volume\": (256, 256, 256), \"radius_lim\": (\n",
    "            2, 8), \"elapsed time\": end - start, \"parallelization\": \"no\"}, ignore_index=True)\n",
    "\n",
    "print(\"batch sequential 2 ended\")"
   ]
  },
  {
   "cell_type": "markdown",
   "metadata": {},
   "source": [
    "## Batch 1 CPU parallelized"
   ]
  },
  {
   "cell_type": "code",
   "execution_count": 7,
   "metadata": {
    "ExecuteTime": {
     "end_time": "2021-04-14T09:52:20.757118Z",
     "start_time": "2021-04-14T09:48:08.814436Z"
    }
   },
   "outputs": [
    {
     "name": "stdout",
     "output_type": "stream",
     "text": [
      "1\n",
      "1\n",
      "2_generated: 0/1 -- n_fails: 0/100\n",
      "3_generated: 1/2 -- n_fails: 0/100\n",
      "4_generated: 2/3 -- n_fails: 0/100\n",
      "5_generated: 3/4 -- n_fails: 0/100\n",
      "10generated: 4/5 -- n_fails: 0/100\n",
      "15generated: 9/10 -- n_fails: 0/100\n",
      "20generated: 14/15 -- n_fails: 1/100\n",
      "n_generated: 9/20 -- n_fails: 0/100\r"
     ]
    },
    {
     "ename": "BrokenProcessPool",
     "evalue": "A process in the process pool was terminated abruptly while the future was running or pending.",
     "output_type": "error",
     "traceback": [
      "\u001b[1;31m---------------------------------------------------------------------------\u001b[0m",
      "\u001b[1;31mBrokenProcessPool\u001b[0m                         Traceback (most recent call last)",
      "\u001b[1;32m<ipython-input-7-f74d34e15c95>\u001b[0m in \u001b[0;36m<module>\u001b[1;34m\u001b[0m\n\u001b[0;32m      9\u001b[0m                                          \u001b[0mradius_lim\u001b[0m\u001b[1;33m=\u001b[0m\u001b[1;33m(\u001b[0m\u001b[1;36m2\u001b[0m\u001b[1;33m,\u001b[0m \u001b[1;36m8\u001b[0m\u001b[1;33m)\u001b[0m\u001b[1;33m,\u001b[0m\u001b[1;33m\u001b[0m\u001b[1;33m\u001b[0m\u001b[0m\n\u001b[0;32m     10\u001b[0m                                          \u001b[0mgap_lim\u001b[0m\u001b[1;33m=\u001b[0m\u001b[1;33m(\u001b[0m\u001b[1;36m3\u001b[0m\u001b[1;33m,\u001b[0m \u001b[1;36m5\u001b[0m\u001b[1;33m)\u001b[0m\u001b[1;33m,\u001b[0m\u001b[1;33m\u001b[0m\u001b[1;33m\u001b[0m\u001b[0m\n\u001b[1;32m---> 11\u001b[1;33m                                          parallelization=\"CPU\")\n\u001b[0m\u001b[0;32m     12\u001b[0m         \u001b[0mend\u001b[0m \u001b[1;33m=\u001b[0m \u001b[0mtime\u001b[0m\u001b[1;33m.\u001b[0m\u001b[0mperf_counter\u001b[0m\u001b[1;33m(\u001b[0m\u001b[1;33m)\u001b[0m\u001b[1;33m\u001b[0m\u001b[1;33m\u001b[0m\u001b[0m\n\u001b[0;32m     13\u001b[0m         result = result.append({\"n fibers\": n_fib, \"volume\": (128, 128, 128), \"radius_lim\": (\n",
      "\u001b[1;32mc:\\users\\ebel\\documents\\github\\quanfima\\quanfima\\simulation.py\u001b[0m in \u001b[0;36msimulate_fibers\u001b[1;34m(volume_shape, n_fibers, radius_lim, length_lim, lat_lim, azth_lim, gap_lim, max_fails, max_len_loss, parallelization, intersect, verbose)\u001b[0m\n\u001b[0;32m    245\u001b[0m                 \u001b[0mazth\u001b[0m \u001b[1;33m=\u001b[0m \u001b[0mnp\u001b[0m\u001b[1;33m.\u001b[0m\u001b[0mrandom\u001b[0m\u001b[1;33m.\u001b[0m\u001b[0mdefault_rng\u001b[0m\u001b[1;33m(\u001b[0m\u001b[1;33m)\u001b[0m\u001b[1;33m.\u001b[0m\u001b[0muniform\u001b[0m\u001b[1;33m(\u001b[0m\u001b[0mazth_lim\u001b[0m\u001b[1;33m[\u001b[0m\u001b[1;36m0\u001b[0m\u001b[1;33m]\u001b[0m\u001b[1;33m,\u001b[0m \u001b[0mazth_lim\u001b[0m\u001b[1;33m[\u001b[0m\u001b[1;36m1\u001b[0m\u001b[1;33m]\u001b[0m\u001b[1;33m)\u001b[0m\u001b[1;33m\u001b[0m\u001b[1;33m\u001b[0m\u001b[0m\n\u001b[0;32m    246\u001b[0m                 \u001b[0mlat\u001b[0m \u001b[1;33m=\u001b[0m \u001b[0mnp\u001b[0m\u001b[1;33m.\u001b[0m\u001b[0mrandom\u001b[0m\u001b[1;33m.\u001b[0m\u001b[0mdefault_rng\u001b[0m\u001b[1;33m(\u001b[0m\u001b[1;33m)\u001b[0m\u001b[1;33m.\u001b[0m\u001b[0muniform\u001b[0m\u001b[1;33m(\u001b[0m\u001b[0mlat_lim\u001b[0m\u001b[1;33m[\u001b[0m\u001b[1;36m0\u001b[0m\u001b[1;33m]\u001b[0m\u001b[1;33m,\u001b[0m \u001b[0mlat_lim\u001b[0m\u001b[1;33m[\u001b[0m\u001b[1;36m1\u001b[0m\u001b[1;33m]\u001b[0m\u001b[1;33m)\u001b[0m\u001b[1;33m\u001b[0m\u001b[1;33m\u001b[0m\u001b[0m\n\u001b[1;32m--> 247\u001b[1;33m                 \u001b[0mradius\u001b[0m \u001b[1;33m=\u001b[0m \u001b[0mnp\u001b[0m\u001b[1;33m.\u001b[0m\u001b[0mrandom\u001b[0m\u001b[1;33m.\u001b[0m\u001b[0mdefault_rng\u001b[0m\u001b[1;33m(\u001b[0m\u001b[1;33m)\u001b[0m\u001b[1;33m.\u001b[0m\u001b[0muniform\u001b[0m\u001b[1;33m(\u001b[0m\u001b[0mradius_lim\u001b[0m\u001b[1;33m[\u001b[0m\u001b[1;36m0\u001b[0m\u001b[1;33m]\u001b[0m\u001b[1;33m,\u001b[0m \u001b[0mradius_lim\u001b[0m\u001b[1;33m[\u001b[0m\u001b[1;36m1\u001b[0m\u001b[1;33m]\u001b[0m\u001b[1;33m)\u001b[0m\u001b[1;33m\u001b[0m\u001b[1;33m\u001b[0m\u001b[0m\n\u001b[0m\u001b[0;32m    248\u001b[0m \u001b[1;33m\u001b[0m\u001b[0m\n\u001b[0;32m    249\u001b[0m                 \u001b[0mgap\u001b[0m \u001b[1;33m=\u001b[0m \u001b[0mnp\u001b[0m\u001b[1;33m.\u001b[0m\u001b[0mrandom\u001b[0m\u001b[1;33m.\u001b[0m\u001b[0mdefault_rng\u001b[0m\u001b[1;33m(\u001b[0m\u001b[1;33m)\u001b[0m\u001b[1;33m.\u001b[0m\u001b[0muniform\u001b[0m\u001b[1;33m(\u001b[0m\u001b[0mgap_lim\u001b[0m\u001b[1;33m[\u001b[0m\u001b[1;36m0\u001b[0m\u001b[1;33m]\u001b[0m\u001b[1;33m,\u001b[0m \u001b[0mgap_lim\u001b[0m\u001b[1;33m[\u001b[0m\u001b[1;36m1\u001b[0m\u001b[1;33m]\u001b[0m\u001b[1;33m)\u001b[0m\u001b[1;33m\u001b[0m\u001b[1;33m\u001b[0m\u001b[0m\n",
      "\u001b[1;32mc:\\users\\ebel\\documents\\github\\quanfima\\quanfima\\simulation.py\u001b[0m in \u001b[0;36mmkfiber\u001b[1;34m(dims_size, length, radius, azth, lat, offset_xyz, parallelization, verbose)\u001b[0m\n\u001b[0;32m    130\u001b[0m                 \u001b[1;31m#                                  np.all(np.less(np.array(pt), dims_size))\u001b[0m\u001b[1;33m\u001b[0m\u001b[1;33m\u001b[0m\u001b[1;33m\u001b[0m\u001b[0m\n\u001b[0;32m    131\u001b[0m                 \u001b[0mfiber_pts\u001b[0m \u001b[1;33m=\u001b[0m \u001b[1;32mNone\u001b[0m\u001b[1;33m\u001b[0m\u001b[1;33m\u001b[0m\u001b[0m\n\u001b[1;32m--> 132\u001b[1;33m                 \u001b[0mgpu_slices_pts\u001b[0m \u001b[1;33m=\u001b[0m \u001b[0mcp\u001b[0m\u001b[1;33m.\u001b[0m\u001b[0masarray\u001b[0m\u001b[1;33m(\u001b[0m\u001b[0mslices_pts\u001b[0m\u001b[1;33m)\u001b[0m\u001b[1;33m\u001b[0m\u001b[1;33m\u001b[0m\u001b[0m\n\u001b[0m\u001b[0;32m    133\u001b[0m                 \u001b[0mprint\u001b[0m\u001b[1;33m(\u001b[0m\u001b[1;34m\"shape de gput_slices_pts: \"\u001b[0m\u001b[1;33m,\u001b[0m \u001b[0mgpu_slices_pts\u001b[0m\u001b[1;33m.\u001b[0m\u001b[0mshape\u001b[0m\u001b[1;33m)\u001b[0m\u001b[1;33m\u001b[0m\u001b[1;33m\u001b[0m\u001b[0m\n\u001b[0;32m    134\u001b[0m                 \u001b[1;32mfor\u001b[0m \u001b[0mpts\u001b[0m \u001b[1;32min\u001b[0m \u001b[0mgpu_slices_pts\u001b[0m\u001b[1;33m:\u001b[0m\u001b[1;33m\u001b[0m\u001b[1;33m\u001b[0m\u001b[0m\n",
      "\u001b[1;32m~\\anaconda3\\lib\\concurrent\\futures\\_base.py\u001b[0m in \u001b[0;36mresult\u001b[1;34m(self, timeout)\u001b[0m\n\u001b[0;32m    426\u001b[0m                 \u001b[1;32mraise\u001b[0m \u001b[0mCancelledError\u001b[0m\u001b[1;33m(\u001b[0m\u001b[1;33m)\u001b[0m\u001b[1;33m\u001b[0m\u001b[1;33m\u001b[0m\u001b[0m\n\u001b[0;32m    427\u001b[0m             \u001b[1;32melif\u001b[0m \u001b[0mself\u001b[0m\u001b[1;33m.\u001b[0m\u001b[0m_state\u001b[0m \u001b[1;33m==\u001b[0m \u001b[0mFINISHED\u001b[0m\u001b[1;33m:\u001b[0m\u001b[1;33m\u001b[0m\u001b[1;33m\u001b[0m\u001b[0m\n\u001b[1;32m--> 428\u001b[1;33m                 \u001b[1;32mreturn\u001b[0m \u001b[0mself\u001b[0m\u001b[1;33m.\u001b[0m\u001b[0m__get_result\u001b[0m\u001b[1;33m(\u001b[0m\u001b[1;33m)\u001b[0m\u001b[1;33m\u001b[0m\u001b[1;33m\u001b[0m\u001b[0m\n\u001b[0m\u001b[0;32m    429\u001b[0m \u001b[1;33m\u001b[0m\u001b[0m\n\u001b[0;32m    430\u001b[0m             \u001b[0mself\u001b[0m\u001b[1;33m.\u001b[0m\u001b[0m_condition\u001b[0m\u001b[1;33m.\u001b[0m\u001b[0mwait\u001b[0m\u001b[1;33m(\u001b[0m\u001b[0mtimeout\u001b[0m\u001b[1;33m)\u001b[0m\u001b[1;33m\u001b[0m\u001b[1;33m\u001b[0m\u001b[0m\n",
      "\u001b[1;32m~\\anaconda3\\lib\\concurrent\\futures\\_base.py\u001b[0m in \u001b[0;36m__get_result\u001b[1;34m(self)\u001b[0m\n\u001b[0;32m    382\u001b[0m     \u001b[1;32mdef\u001b[0m \u001b[0m__get_result\u001b[0m\u001b[1;33m(\u001b[0m\u001b[0mself\u001b[0m\u001b[1;33m)\u001b[0m\u001b[1;33m:\u001b[0m\u001b[1;33m\u001b[0m\u001b[1;33m\u001b[0m\u001b[0m\n\u001b[0;32m    383\u001b[0m         \u001b[1;32mif\u001b[0m \u001b[0mself\u001b[0m\u001b[1;33m.\u001b[0m\u001b[0m_exception\u001b[0m\u001b[1;33m:\u001b[0m\u001b[1;33m\u001b[0m\u001b[1;33m\u001b[0m\u001b[0m\n\u001b[1;32m--> 384\u001b[1;33m             \u001b[1;32mraise\u001b[0m \u001b[0mself\u001b[0m\u001b[1;33m.\u001b[0m\u001b[0m_exception\u001b[0m\u001b[1;33m\u001b[0m\u001b[1;33m\u001b[0m\u001b[0m\n\u001b[0m\u001b[0;32m    385\u001b[0m         \u001b[1;32melse\u001b[0m\u001b[1;33m:\u001b[0m\u001b[1;33m\u001b[0m\u001b[1;33m\u001b[0m\u001b[0m\n\u001b[0;32m    386\u001b[0m             \u001b[1;32mreturn\u001b[0m \u001b[0mself\u001b[0m\u001b[1;33m.\u001b[0m\u001b[0m_result\u001b[0m\u001b[1;33m\u001b[0m\u001b[1;33m\u001b[0m\u001b[0m\n",
      "\u001b[1;31mBrokenProcessPool\u001b[0m: A process in the process pool was terminated abruptly while the future was running or pending."
     ]
    }
   ],
   "source": [
    "for iteration in range(1, nb_run + 1):\n",
    "    print(iteration)\n",
    "    for n_fib in lst_fibers:\n",
    "        print(n_fib)\n",
    "        start = time.perf_counter()\n",
    "        res = simulation.simulate_fibers((128, 128, 128),\n",
    "                                         n_fibers=n_fib,\n",
    "                                         max_fails=100,\n",
    "                                         radius_lim=(2, 8),\n",
    "                                         gap_lim=(3, 5),\n",
    "                                         parallelization=\"CPU\")\n",
    "        end = time.perf_counter()\n",
    "        result = result.append({\"n fibers\": n_fib, \"volume\": (128, 128, 128), \"radius_lim\": (\n",
    "            2, 8), \"elapsed time\": end - start, \"parallelization\": f\"yes ({cpu_use})\"}, ignore_index=True)\n",
    "\n",
    "#print(\"\\n\\n\", result)\n",
    "print(\"batch CPU 1 ended\")"
   ]
  },
  {
   "cell_type": "markdown",
   "metadata": {},
   "source": [
    "## Batch 2 CPU parallelized"
   ]
  },
  {
   "cell_type": "code",
   "execution_count": null,
   "metadata": {
    "ExecuteTime": {
     "end_time": "2021-04-14T09:52:20.757118Z",
     "start_time": "2021-04-14T09:36:50.488Z"
    }
   },
   "outputs": [],
   "source": [
    "for iteration in range(1, nb_run + 1):\n",
    "    print(iteration)\n",
    "    for n_fib in lst_fibers:\n",
    "        print(n_fib)\n",
    "        start = time.perf_counter()\n",
    "        res = simulation.simulate_fibers((256, 256, 256), \n",
    "                                         n_fibers=n_fib, \n",
    "                                         max_fails=100,\n",
    "                                         radius_lim=(2, 8), \n",
    "                                         gap_lim=(3, 5), \n",
    "                                         parallelization=\"CPU\")\n",
    "        end = time.perf_counter()\n",
    "        result = result.append({\"n fibers\": n_fib, \"volume\": (256, 256, 256), \"radius_lim\": (\n",
    "            2, 8), \"elapsed time\": end - start, \"parallelization\": f\"yes ({cpu_use})\"}, ignore_index=True)\n",
    "\n",
    "#print(\"\\n\\n\", result)\n",
    "print(\"batch CPU 2 ended\")"
   ]
  },
  {
   "cell_type": "markdown",
   "metadata": {},
   "source": []
  },
  {
   "cell_type": "code",
   "execution_count": null,
   "metadata": {
    "ExecuteTime": {
     "end_time": "2021-04-14T09:52:20.757118Z",
     "start_time": "2021-04-14T09:36:51.529Z"
    }
   },
   "outputs": [],
   "source": [
    "#for iteration in range(1, nb_run + 1):\n",
    "#\tfor n_fib in [1, 2, 3, 4, 5, ]:\n",
    "#\t\tstart = time.perf_counter()\n",
    "#\t\tvolume, lat_ref, azth_ref, diameter, _, _ = \\\n",
    "#\t\t  simulation.simulate_fibers((128,128,128), n_fibers=n_fib, max_fails=100,\n",
    "#\t\t\t\t\t\t\t\t\t radius_lim=(8, 16), gap_lim=(3,5))\n",
    "#\t\tend = time.perf_counter()\n",
    "#\t\tresult=result.append({\"n fibers\":n_fib, \"volume\":(128,128,128), \"radius_lim\":(16,24), \"elapsed time\":end - start, \"parallelization\": \"no\"}, ignore_index=True)\n",
    "\n",
    "#print(\"batch 5 fin\")\n"
   ]
  },
  {
   "cell_type": "markdown",
   "metadata": {},
   "source": []
  },
  {
   "cell_type": "code",
   "execution_count": null,
   "metadata": {
    "ExecuteTime": {
     "end_time": "2021-04-14T09:52:20.757118Z",
     "start_time": "2021-04-14T09:36:53.240Z"
    }
   },
   "outputs": [],
   "source": [
    "#for iteration in range(1, nb_run + 1):\n",
    "#\tfor n_fib in lst_fibers:\n",
    "#\t\tstart = time.perf_counter()\n",
    "#\t\tvolume, lat_ref, azth_ref, diameter, _, _ = \\\n",
    "#\t\t  simulation.simulate_fibers((128,128,128), n_fibers=n_fib, max_fails=100,\n",
    "#\t\t\t\t\t\t\t\t\t radius_lim=(8, 16), gap_lim=(3,5), parallelization=\"CPU\")\n",
    "#\t\tend = time.perf_counter()\n",
    "#\t\tresult=result.append({\"n fibers\":n_fib, \"volume\":(128,128,128), \"radius_lim\":(16,24), \"elapsed time\":end - start, \"parallelization\": f\"yes ({cpu_use})\"}, ignore_index=True)\n",
    "#print(\"batch 6 fin\")\n"
   ]
  },
  {
   "cell_type": "code",
   "execution_count": null,
   "metadata": {
    "ExecuteTime": {
     "end_time": "2021-04-14T09:52:20.757118Z",
     "start_time": "2021-04-14T09:36:53.792Z"
    }
   },
   "outputs": [],
   "source": [
    "result.to_csv(\"benchmark_parallelization.csv\")\n",
    "#exit()"
   ]
  },
  {
   "cell_type": "markdown",
   "metadata": {},
   "source": [
    "# Results "
   ]
  },
  {
   "cell_type": "code",
   "execution_count": null,
   "metadata": {
    "ExecuteTime": {
     "end_time": "2021-04-14T09:52:20.757118Z",
     "start_time": "2021-04-14T09:36:56.135Z"
    }
   },
   "outputs": [],
   "source": [
    "import matplotlib.pyplot as plt\n",
    "import seaborn as sns"
   ]
  },
  {
   "cell_type": "code",
   "execution_count": null,
   "metadata": {
    "ExecuteTime": {
     "end_time": "2021-04-14T09:52:20.757118Z",
     "start_time": "2021-04-14T09:36:57.015Z"
    }
   },
   "outputs": [],
   "source": [
    "data = pd.read_csv(\"benchmark_cpu_parallelization.csv\")"
   ]
  },
  {
   "cell_type": "markdown",
   "metadata": {},
   "source": [
    "## Results for 128x128x128 "
   ]
  },
  {
   "cell_type": "code",
   "execution_count": null,
   "metadata": {
    "ExecuteTime": {
     "end_time": "2021-04-14T09:52:20.772711Z",
     "start_time": "2021-04-14T09:37:00.991Z"
    }
   },
   "outputs": [],
   "source": [
    "filter_data = data[(data.volume == \"(128, 128, 128)\") & (data.radius_lim == \"(2, 8)\")]"
   ]
  },
  {
   "cell_type": "code",
   "execution_count": null,
   "metadata": {
    "ExecuteTime": {
     "end_time": "2021-04-14T09:52:20.772711Z",
     "start_time": "2021-04-14T09:37:01.735Z"
    },
    "scrolled": true
   },
   "outputs": [],
   "source": [
    "sns.lineplot(data=filter_data, x=\"n fibers\", y='elapsed time', hue=\"parallelization\")"
   ]
  },
  {
   "cell_type": "markdown",
   "metadata": {},
   "source": [
    "## Results for 256x256x256 "
   ]
  },
  {
   "cell_type": "code",
   "execution_count": null,
   "metadata": {
    "ExecuteTime": {
     "end_time": "2021-04-14T09:52:20.772711Z",
     "start_time": "2021-04-14T09:37:04.414Z"
    }
   },
   "outputs": [],
   "source": [
    "filter_data2 = data[(data.volume == \"(256, 256, 256)\") & (data.radius_lim == \"(2, 8)\")]"
   ]
  },
  {
   "cell_type": "code",
   "execution_count": null,
   "metadata": {
    "ExecuteTime": {
     "end_time": "2021-04-14T09:52:20.772711Z",
     "start_time": "2021-04-14T09:37:05.031Z"
    }
   },
   "outputs": [],
   "source": [
    "sns.lineplot(data=filter_data2, x=\"n fibers\", y='elapsed time', hue=\"parallelization\")"
   ]
  },
  {
   "cell_type": "code",
   "execution_count": null,
   "metadata": {},
   "outputs": [],
   "source": []
  }
 ],
 "metadata": {
  "hide_input": false,
  "kernelspec": {
   "display_name": "Python 3",
   "language": "python",
   "name": "python3"
  },
  "language_info": {
   "codemirror_mode": {
    "name": "ipython",
    "version": 3
   },
   "file_extension": ".py",
   "mimetype": "text/x-python",
   "name": "python",
   "nbconvert_exporter": "python",
   "pygments_lexer": "ipython3",
   "version": "3.7.10"
  },
  "latex_envs": {
   "LaTeX_envs_menu_present": true,
   "autoclose": false,
   "autocomplete": true,
   "bibliofile": "biblio.bib",
   "cite_by": "apalike",
   "current_citInitial": 1,
   "eqLabelWithNumbers": true,
   "eqNumInitial": 1,
   "hotkeys": {
    "equation": "Ctrl-E",
    "itemize": "Ctrl-I"
   },
   "labels_anchors": false,
   "latex_user_defs": false,
   "report_style_numbering": false,
   "user_envs_cfg": false
  },
  "toc": {
   "base_numbering": 1,
   "nav_menu": {},
   "number_sections": true,
   "sideBar": true,
   "skip_h1_title": false,
   "title_cell": "Table of Contents",
   "title_sidebar": "Contents",
   "toc_cell": false,
   "toc_position": {},
   "toc_section_display": true,
   "toc_window_display": false
  }
 },
 "nbformat": 4,
 "nbformat_minor": 4
}
