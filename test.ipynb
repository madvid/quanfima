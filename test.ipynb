{
 "cells": [
  {
   "cell_type": "code",
   "execution_count": 1,
   "metadata": {},
   "outputs": [],
   "source": [
    "import numpy as np\n"
   ]
  },
  {
   "cell_type": "code",
   "execution_count": 15,
   "metadata": {},
   "outputs": [],
   "source": [
    "import numpy as np\n",
    "import matplotlib.pyplot as plt\n",
    "from skimage import data, filters, color, morphology\n",
    "from skimage.segmentation import flood, flood_fill\n",
    "import scipy.ndimage as ndi"
   ]
  },
  {
   "cell_type": "code",
   "execution_count": 55,
   "metadata": {},
   "outputs": [
    {
     "data": {
      "text/plain": [
       "array([[[0., 0., 0., 0., 0., 0.],\n",
       "        [0., 0., 0., 0., 0., 0.],\n",
       "        [0., 0., 0., 0., 0., 0.],\n",
       "        [0., 0., 0., 0., 0., 0.],\n",
       "        [0., 0., 0., 0., 0., 0.],\n",
       "        [0., 0., 0., 0., 0., 0.]],\n",
       "\n",
       "       [[0., 0., 0., 0., 0., 0.],\n",
       "        [0., 2., 2., 2., 2., 0.],\n",
       "        [0., 2., 2., 2., 2., 0.],\n",
       "        [0., 2., 2., 2., 2., 0.],\n",
       "        [0., 2., 2., 2., 2., 0.],\n",
       "        [0., 0., 0., 0., 0., 0.]],\n",
       "\n",
       "       [[0., 0., 0., 0., 0., 0.],\n",
       "        [0., 2., 2., 2., 2., 0.],\n",
       "        [0., 2., 0., 0., 2., 0.],\n",
       "        [0., 2., 0., 0., 2., 0.],\n",
       "        [0., 2., 2., 2., 2., 0.],\n",
       "        [0., 0., 0., 0., 0., 0.]],\n",
       "\n",
       "       [[0., 0., 0., 0., 0., 0.],\n",
       "        [0., 2., 2., 2., 2., 0.],\n",
       "        [0., 2., 0., 0., 2., 0.],\n",
       "        [0., 2., 0., 0., 2., 0.],\n",
       "        [0., 2., 2., 2., 2., 0.],\n",
       "        [0., 0., 0., 0., 0., 0.]],\n",
       "\n",
       "       [[0., 0., 0., 0., 0., 0.],\n",
       "        [0., 2., 2., 2., 2., 0.],\n",
       "        [0., 2., 2., 2., 2., 0.],\n",
       "        [0., 2., 2., 2., 2., 0.],\n",
       "        [0., 2., 2., 2., 2., 0.],\n",
       "        [0., 0., 0., 0., 0., 0.]],\n",
       "\n",
       "       [[0., 0., 0., 0., 0., 0.],\n",
       "        [0., 0., 0., 0., 0., 0.],\n",
       "        [0., 0., 0., 0., 0., 0.],\n",
       "        [0., 0., 0., 0., 0., 0.],\n",
       "        [0., 0., 0., 0., 0., 0.],\n",
       "        [0., 0., 0., 0., 0., 0.]]])"
      ]
     },
     "execution_count": 55,
     "metadata": {},
     "output_type": "execute_result"
    }
   ],
   "source": [
    "test = np.zeros((6, 6, 6))\n",
    "test[1:5, 1:5, 1:5] = 2\n",
    "test[2:4, 2:4, 2:4] = 0\n",
    "test"
   ]
  },
  {
   "cell_type": "code",
   "execution_count": 56,
   "metadata": {},
   "outputs": [
    {
     "data": {
      "text/plain": [
       "array([[[0., 0., 0., 0., 0., 0.],\n",
       "        [0., 0., 0., 0., 0., 0.],\n",
       "        [0., 0., 0., 0., 0., 0.],\n",
       "        [0., 0., 0., 0., 0., 0.],\n",
       "        [0., 0., 0., 0., 0., 0.],\n",
       "        [0., 0., 0., 0., 0., 0.]],\n",
       "\n",
       "       [[0., 0., 0., 0., 0., 0.],\n",
       "        [0., 2., 2., 2., 2., 0.],\n",
       "        [0., 2., 2., 2., 2., 0.],\n",
       "        [0., 2., 2., 2., 2., 0.],\n",
       "        [0., 2., 2., 2., 2., 0.],\n",
       "        [0., 0., 0., 0., 0., 0.]],\n",
       "\n",
       "       [[0., 0., 0., 0., 0., 0.],\n",
       "        [0., 2., 2., 2., 2., 0.],\n",
       "        [0., 2., 2., 2., 2., 0.],\n",
       "        [0., 2., 2., 2., 2., 0.],\n",
       "        [0., 2., 2., 2., 2., 0.],\n",
       "        [0., 0., 0., 0., 0., 0.]],\n",
       "\n",
       "       [[0., 0., 0., 0., 0., 0.],\n",
       "        [0., 2., 2., 2., 2., 0.],\n",
       "        [0., 2., 2., 2., 2., 0.],\n",
       "        [0., 2., 2., 2., 2., 0.],\n",
       "        [0., 2., 2., 2., 2., 0.],\n",
       "        [0., 0., 0., 0., 0., 0.]],\n",
       "\n",
       "       [[0., 0., 0., 0., 0., 0.],\n",
       "        [0., 2., 2., 2., 2., 0.],\n",
       "        [0., 2., 2., 2., 2., 0.],\n",
       "        [0., 2., 2., 2., 2., 0.],\n",
       "        [0., 2., 2., 2., 2., 0.],\n",
       "        [0., 0., 0., 0., 0., 0.]],\n",
       "\n",
       "       [[0., 0., 0., 0., 0., 0.],\n",
       "        [0., 0., 0., 0., 0., 0.],\n",
       "        [0., 0., 0., 0., 0., 0.],\n",
       "        [0., 0., 0., 0., 0., 0.],\n",
       "        [0., 0., 0., 0., 0., 0.],\n",
       "        [0., 0., 0., 0., 0., 0.]]])"
      ]
     },
     "execution_count": 56,
     "metadata": {},
     "output_type": "execute_result"
    }
   ],
   "source": [
    "mask = flood(test, (2, 2, 2))\n",
    "image_flooded = test.copy()\n",
    "image_flooded[mask] = 2\n",
    "image_flooded"
   ]
  },
  {
   "cell_type": "code",
   "execution_count": 47,
   "metadata": {},
   "outputs": [],
   "source": [
    "retour = ndi.binary_fill_holes(test).astype(int)"
   ]
  },
  {
   "cell_type": "code",
   "execution_count": 39,
   "metadata": {},
   "outputs": [],
   "source": [
    "retour = retour * -3"
   ]
  },
  {
   "cell_type": "code",
   "execution_count": 48,
   "metadata": {},
   "outputs": [
    {
     "data": {
      "text/plain": [
       "array([[0, 0, 0, 0, 0, 0, 0, 0, 0, 0],\n",
       "       [0, 0, 0, 0, 0, 0, 0, 0, 0, 0],\n",
       "       [0, 0, 0, 0, 0, 0, 0, 0, 0, 0],\n",
       "       [0, 0, 0, 0, 0, 0, 0, 0, 0, 0],\n",
       "       [0, 0, 0, 0, 1, 1, 1, 1, 0, 0],\n",
       "       [0, 0, 0, 0, 1, 1, 1, 1, 0, 0],\n",
       "       [0, 0, 0, 0, 1, 1, 1, 1, 0, 0],\n",
       "       [0, 0, 0, 0, 1, 1, 1, 1, 0, 0],\n",
       "       [0, 0, 0, 0, 0, 0, 0, 0, 0, 0],\n",
       "       [0, 0, 0, 0, 0, 0, 0, 0, 0, 0]])"
      ]
     },
     "execution_count": 48,
     "metadata": {},
     "output_type": "execute_result"
    }
   ],
   "source": [
    "retour.astype(int)"
   ]
  },
  {
   "cell_type": "code",
   "execution_count": 31,
   "metadata": {},
   "outputs": [],
   "source": [
    "test2 = np.arange(1,101).reshape(10,10)"
   ]
  },
  {
   "cell_type": "code",
   "execution_count": 42,
   "metadata": {},
   "outputs": [
    {
     "data": {
      "text/plain": [
       "array([[  1,   2,   3,   4,   5,   6,   7,   8,   9,  10],\n",
       "       [ 11,  12,  13,  14,  15,  16,  17,  18,  19,  20],\n",
       "       [ 21,  22,  23,  24,  25,  26,  27,  28,  29,  30],\n",
       "       [ 31,  32,  33,  34,  35,  36,  37,  38,  39,  40],\n",
       "       [ 41,  42,  43,  44,   0,   0,   0,   0,  49,  50],\n",
       "       [ 51,  52,  53,  54,   0,   0,   0,   0,  59,  60],\n",
       "       [ 61,  62,  63,  64,   0,   0,   0,   0,  69,  70],\n",
       "       [ 71,  72,  73,  74,   0,   0,   0,   0,  79,  80],\n",
       "       [ 81,  82,  83,  84,  85,  86,  87,  88,  89,  90],\n",
       "       [ 91,  92,  93,  94,  95,  96,  97,  98,  99, 100]])"
      ]
     },
     "execution_count": 42,
     "metadata": {},
     "output_type": "execute_result"
    }
   ],
   "source": [
    "test2[retour.astype(bool)] = 0\n",
    "test2"
   ]
  },
  {
   "cell_type": "code",
   "execution_count": null,
   "metadata": {},
   "outputs": [],
   "source": [
    "radius =3.139076411875725 -- X.shape = (29,)\n",
    "radius =6.139076411875725 -- X.shape = (121,)"
   ]
  },
  {
   "cell_type": "code",
   "execution_count": 57,
   "metadata": {},
   "outputs": [
    {
     "data": {
      "text/plain": [
       "30.959144000000002"
      ]
     },
     "execution_count": 57,
     "metadata": {},
     "output_type": "execute_result"
    }
   ],
   "source": [
    "(3.14**2) * 3.14"
   ]
  },
  {
   "cell_type": "code",
   "execution_count": 61,
   "metadata": {},
   "outputs": [
    {
     "data": {
      "text/plain": [
       "118.40115820055898"
      ]
     },
     "execution_count": 61,
     "metadata": {},
     "output_type": "execute_result"
    }
   ],
   "source": [
    "(6.139076411875725**2) * np.pi"
   ]
  },
  {
   "cell_type": "code",
   "execution_count": 38,
   "metadata": {},
   "outputs": [],
   "source": [
    "from skimage import filters, morphology, data as skidata, exposure, draw\n",
    "\n",
    "def mkfiber(dims_size, length, radius, azth, lat, offset_xyz):\n",
    "    \"\"\"Computes fiber coordinates and its length.\n",
    "    Computes a fiber of speficied `length`, `radius`, oriented under azimuth `azth` and\n",
    "    latitude / elevation `lat` angles shifted to `offset_xyz` from the center of a volume of\n",
    "    size `dims_size`.\n",
    "    Parameters\n",
    "    ----------\n",
    "    dims_size : tuple\n",
    "        Indicates the size of the volume.\n",
    "    length : integer\n",
    "        Indicates the length of the simulated fiber.\n",
    "    radius : integer\n",
    "        Indicates the radius of the simulated fiber.\n",
    "    azth : float\n",
    "        Indicates the azimuth component of the orientation angles of the fiber in radians.\n",
    "    lat : float\n",
    "        Indicates the latitude / elevation component of the orientation angles of the fiber\n",
    "        in radians.\n",
    "    offset_xyz : tuple\n",
    "        Indicates the offset from the center of the volume where the fiber will be generated.\n",
    "    Returns\n",
    "    -------\n",
    "    fiber_pts, fiber_len : tuple of array and number\n",
    "        The array of fiber coordinates and the length.\n",
    "    \"\"\"\n",
    "    dims_size = np.array(dims_size)\n",
    "\n",
    "    half_pi = np.pi / 2.\n",
    "    mx = np.array([[1., 0., 0],\n",
    "                   [0., np.cos(lat), np.sin(lat)],\n",
    "                   [0., -np.sin(lat), np.cos(lat)]])\n",
    "    azth += half_pi\n",
    "    mz = np.array([[np.cos(azth), -np.sin(azth), 0],\n",
    "                   [np.sin(azth), np.cos(azth), 0],\n",
    "                   [0., 0., 1.]])\n",
    "\n",
    "    # Directional vector\n",
    "    dl = 1\n",
    "    dir_vec = np.array([0, 0, 1])\n",
    "    dir_vec = np.dot(mx, dir_vec)\n",
    "    dir_vec = np.dot(mz, dir_vec)\n",
    "    dx, dy, dz = dir_vec[0], dir_vec[1], dir_vec[2]\n",
    "\n",
    "    # Compute length\n",
    "    n_steps = np.round(length / dl)\n",
    "    half_steps = int(np.ceil(n_steps / 2.))\n",
    "    steps = range(half_steps - int(n_steps), half_steps)\n",
    "\n",
    "    # Draw circle perpedicular to the directional vector\n",
    "    X, Y = draw.circle(0, 0, radius)\n",
    "    Z = np.repeat(0, len(Y))\n",
    "    circle_pts = np.array([X, Y, Z])\n",
    "    circle_pts = np.dot(mx, circle_pts)\n",
    "    circle_pts = np.dot(mz, circle_pts)\n",
    "\n",
    "    # Propogate the circle profile along the directional vector\n",
    "    #return circle_pts\n",
    "    #slice_pts = np.array(zip(*circle_pts))\n",
    "    slice_pts = circle_pts.T\n",
    "    dxyz = np.array([dx, dy, dz])\n",
    "    step_shifts = np.array([step * dxyz for step in steps])  # [(dx,dy,dz), ...] for each step\n",
    "    center_shift = dims_size * 0.5 + offset_xyz  # (x, y ,z)\n",
    "    \n",
    "    print(\"step_shifts[0] = \", step_shifts[0])\n",
    "    print(\"step_shifts[0].shape = \", step_shifts[0].shape)\n",
    "    slices_pts = np.round(np.array([slice_pts + step_shift + center_shift\n",
    "                                    for step_shift in step_shifts]))\n",
    "\n",
    "    # Filter all the points which are outside the boundary\n",
    "    pt_filter = lambda pt: np.all(np.greater_equal(pt, (0, 0, 0))) and \\\n",
    "                            np.all(np.less(np.array(pt), dims_size))\n",
    "    n_slices = 0\n",
    "    fiber_pts = None\n",
    "    for pts in slices_pts:\n",
    "        slice_pts_mask = [pt_filter(pt) for pt in pts]\n",
    "        slice_pts = pts[slice_pts_mask].astype(np.int32)\n",
    "        if len(slice_pts) > 0:\n",
    "            n_slices += 1\n",
    "            fiber_pts = slice_pts if fiber_pts is None else \\\n",
    "                        np.concatenate((fiber_pts, slice_pts))\n",
    "    # number of slices, e.g. steps.\n",
    "    fiber_len = np.round(n_slices * dl).astype(np.int32)\n",
    "    fiber_pts = fiber_pts.astype(np.int32)\n",
    "    return fiber_pts, fiber_len\n"
   ]
  },
  {
   "cell_type": "code",
   "execution_count": 39,
   "metadata": {},
   "outputs": [
    {
     "name": "stdout",
     "output_type": "stream",
     "text": [
      "step_shifts[0] =  [ -2.6285423    4.16899977 -28.57814211]\n",
      "step_shifts[0].shape =  (3,)\n"
     ]
    },
    {
     "name": "stderr",
     "output_type": "stream",
     "text": [
      "/home/md4/miniconda3/lib/python3.7/site-packages/ipykernel_launcher.py:52: FutureWarning: `draw.circle` is deprecated in favor of `draw.disk`.`draw.circle` will be removed in version 0.19\n"
     ]
    }
   ],
   "source": [
    "dims_size=[128, 128, 128]\n",
    "length=58\n",
    "radius=2.353286956138798\n",
    "azth=2.133338855915478\n",
    "lat=0.1707760504979278\n",
    "offset_xyz=[-13, -29, -28]\n",
    "ret = mkfiber(dims_size, length, radius, azth, lat, offset_xyz)"
   ]
  },
  {
   "cell_type": "code",
   "execution_count": 11,
   "metadata": {},
   "outputs": [
    {
     "data": {
      "text/plain": [
       "(5, 3)"
      ]
     },
     "execution_count": 11,
     "metadata": {},
     "output_type": "execute_result"
    }
   ],
   "source": [
    "test1 = np.array([[0, 0, 0], [1, 0, 1], [2, -1, 0], [1, 2, 3], [1, 3, -2]])\n",
    "test2 = np.array([[0, 0, 0], [1, 0, 1], [2, 1, 0], [1, 2, 3], [1, 3, 2]])\n",
    "\n",
    "test2.shape"
   ]
  },
  {
   "cell_type": "code",
   "execution_count": null,
   "metadata": {},
   "outputs": [],
   "source": [
    "from scipy.ndimage import filters"
   ]
  },
  {
   "cell_type": "code",
   "execution_count": 2,
   "metadata": {},
   "outputs": [],
   "source": [
    "def structure_tensor_3d(volume, sigma, rho, out=None):\n",
    "    \"\"\"Structure tensor for 3D image data.\n",
    "    Arguments:\n",
    "        volume: array_like\n",
    "            A 3D array. Pass ndarray to avoid copying volume.\n",
    "        sigma: scalar\n",
    "            A noise scale, structures smaller than sigma will be removed by smoothing.\n",
    "        rho: scalar\n",
    "            An integration scale giving the size over the neighborhood in which the\n",
    "            orientation is to be analysed.\n",
    "        out: ndarray, optional\n",
    "            A Numpy array with the shape (6, volume.shape) in which to place the output.\n",
    "    Returns:\n",
    "        S: ndarray\n",
    "            An array with shape (6, volume.shape) containing elements of structure tensor\n",
    "            (s_xx, s_yy, s_zz, s_xy, s_xz, s_yz).\n",
    "    Authors: vand@dtu.dk, 2019; niejep@dtu.dk, 2019-2020\n",
    "    \"\"\"\n",
    "\n",
    "    # Make sure it's a Numpy array.\n",
    "    volume = np.asarray(volume)\n",
    "\n",
    "    # Computing derivatives (scipy implementation truncates filter at 4 sigma).\n",
    "    Vx = filters.gaussian_filter(volume, sigma, order=[0, 0, 1], mode='nearest')\n",
    "    Vy = filters.gaussian_filter(volume, sigma, order=[0, 1, 0], mode='nearest')\n",
    "    Vz = filters.gaussian_filter(volume, sigma, order=[1, 0, 0], mode='nearest')\n",
    "\n",
    "    if out is None:\n",
    "        # Allocate S.\n",
    "        S = np.empty((6, ) + volume.shape, dtype=volume.dtype)\n",
    "    else:\n",
    "        # S is already allocated. We assume the size is correct.\n",
    "        S = out\n",
    "\n",
    "    # Integrating elements of structure tensor (scipy uses sequence of 1D).\n",
    "    tmp = np.empty(volume.shape, dtype=volume.dtype)\n",
    "    np.multiply(Vx, Vx, out=tmp)\n",
    "    filters.gaussian_filter(tmp, rho, mode='nearest', output=S[0])\n",
    "    np.multiply(Vy, Vy, out=tmp)\n",
    "    filters.gaussian_filter(tmp, rho, mode='nearest', output=S[1])\n",
    "    np.multiply(Vz, Vz, out=tmp)\n",
    "    filters.gaussian_filter(tmp, rho, mode='nearest', output=S[2])\n",
    "    np.multiply(Vx, Vy, out=tmp)\n",
    "    filters.gaussian_filter(tmp, rho, mode='nearest', output=S[3])\n",
    "    np.multiply(Vx, Vz, out=tmp)\n",
    "    filters.gaussian_filter(tmp, rho, mode='nearest', output=S[4])\n",
    "    np.multiply(Vy, Vz, out=tmp)\n",
    "    filters.gaussian_filter(tmp, rho, mode='nearest', output=S[5])\n",
    "\n",
    "    return S"
   ]
  },
  {
   "cell_type": "code",
   "execution_count": 3,
   "metadata": {},
   "outputs": [],
   "source": [
    "volume = np.random.random((128,128,128))"
   ]
  },
  {
   "cell_type": "code",
   "execution_count": 4,
   "metadata": {},
   "outputs": [],
   "source": [
    "sigma = 1.5\n",
    "rho = 5.5\n",
    "S = structure_tensor_3d(volume, sigma, rho)"
   ]
  },
  {
   "cell_type": "code",
   "execution_count": 5,
   "metadata": {},
   "outputs": [],
   "source": [
    "import structure_tensor"
   ]
  },
  {
   "cell_type": "code",
   "execution_count": 6,
   "metadata": {},
   "outputs": [],
   "source": [
    "import numpy as np\n",
    "from scipy import ndimage as ndi\n",
    "from skimage import morphology\n",
    "from quanfima import simulation\n",
    "from quanfima import morphology as mrph\n",
    "from quanfima import qf_utils\n",
    "from quanfima import visualization as vis"
   ]
  },
  {
   "cell_type": "code",
   "execution_count": 7,
   "metadata": {},
   "outputs": [
    {
     "name": "stdout",
     "output_type": "stream",
     "text": [
      "type(circle_pts):  <class 'numpy.ndarray'>  -- circle_pts (3, 21)\n",
      "type(slice_pts):  <class 'numpy.ndarray'>  -- slice_pts ()\n",
      "type(step_shifts):  <class 'numpy.ndarray'>  -- (74, 3)\n",
      "type(center_shift):  <class 'numpy.ndarray'>  -- (3,)\n",
      "<zip object at 0x7f50b827fb08>\n"
     ]
    },
    {
     "name": "stderr",
     "output_type": "stream",
     "text": [
      "/home/md4/Documents/projets_personnels/quanfima/quanfima/simulation.py:78: FutureWarning: `draw.circle` is deprecated in favor of `draw.disk`.`draw.circle` will be removed in version 0.19\n",
      "  X, Y = draw.circle(0, 0, radius)\n"
     ]
    },
    {
     "ename": "TypeError",
     "evalue": "unsupported operand type(s) for +: 'zip' and 'float'",
     "output_type": "error",
     "traceback": [
      "\u001b[0;31m---------------------------------------------------------------------------\u001b[0m",
      "\u001b[0;31mTypeError\u001b[0m                                 Traceback (most recent call last)",
      "\u001b[0;32m<ipython-input-7-d282e0aada72>\u001b[0m in \u001b[0;36m<module>\u001b[0;34m\u001b[0m\n\u001b[1;32m      1\u001b[0m \u001b[0mvolume\u001b[0m\u001b[0;34m,\u001b[0m \u001b[0mlat_ref\u001b[0m\u001b[0;34m,\u001b[0m \u001b[0mazth_ref\u001b[0m\u001b[0;34m,\u001b[0m \u001b[0mdiameter\u001b[0m\u001b[0;34m,\u001b[0m \u001b[0m_\u001b[0m\u001b[0;34m,\u001b[0m \u001b[0m_\u001b[0m \u001b[0;34m=\u001b[0m\u001b[0;31m \u001b[0m\u001b[0;31m\\\u001b[0m\u001b[0;34m\u001b[0m\u001b[0;34m\u001b[0m\u001b[0m\n\u001b[1;32m      2\u001b[0m           simulation.simulate_fibers((128,128,128), n_fibers=30, max_fails=100,\n\u001b[0;32m----> 3\u001b[0;31m                                      radius_lim=(2, 3), gap_lim=(3,5))\n\u001b[0m\u001b[1;32m      4\u001b[0m \u001b[0mvolume\u001b[0m \u001b[0;34m=\u001b[0m \u001b[0mvolume\u001b[0m\u001b[0;34m.\u001b[0m\u001b[0mastype\u001b[0m\u001b[0;34m(\u001b[0m\u001b[0mnp\u001b[0m\u001b[0;34m.\u001b[0m\u001b[0muint8\u001b[0m\u001b[0;34m)\u001b[0m\u001b[0;34m\u001b[0m\u001b[0;34m\u001b[0m\u001b[0m\n\u001b[1;32m      5\u001b[0m \u001b[0mvolume\u001b[0m \u001b[0;34m=\u001b[0m \u001b[0mndi\u001b[0m\u001b[0;34m.\u001b[0m\u001b[0mbinary_fill_holes\u001b[0m\u001b[0;34m(\u001b[0m\u001b[0mvolume\u001b[0m\u001b[0;34m)\u001b[0m\u001b[0;34m\u001b[0m\u001b[0;34m\u001b[0m\u001b[0m\n",
      "\u001b[0;32m~/Documents/projets_personnels/quanfima/quanfima/simulation.py\u001b[0m in \u001b[0;36msimulate_fibers\u001b[0;34m(volume_shape, n_fibers, radius_lim, length_lim, lat_lim, azth_lim, gap_lim, max_fails, max_len_loss, intersect)\u001b[0m\n\u001b[1;32m    197\u001b[0m         \u001b[0mgap\u001b[0m \u001b[0;34m=\u001b[0m \u001b[0mnp\u001b[0m\u001b[0;34m.\u001b[0m\u001b[0mround\u001b[0m\u001b[0;34m(\u001b[0m\u001b[0mgap\u001b[0m\u001b[0;34m)\u001b[0m\u001b[0;34m.\u001b[0m\u001b[0mastype\u001b[0m\u001b[0;34m(\u001b[0m\u001b[0mnp\u001b[0m\u001b[0;34m.\u001b[0m\u001b[0mint32\u001b[0m\u001b[0;34m)\u001b[0m\u001b[0;34m\u001b[0m\u001b[0;34m\u001b[0m\u001b[0m\n\u001b[1;32m    198\u001b[0m \u001b[0;34m\u001b[0m\u001b[0m\n\u001b[0;32m--> 199\u001b[0;31m         \u001b[0mfiber_pts\u001b[0m\u001b[0;34m,\u001b[0m \u001b[0mfiber_len\u001b[0m \u001b[0;34m=\u001b[0m \u001b[0mmkfiber\u001b[0m\u001b[0;34m(\u001b[0m\u001b[0mdims\u001b[0m\u001b[0;34m,\u001b[0m \u001b[0mlength\u001b[0m\u001b[0;34m,\u001b[0m \u001b[0mradius\u001b[0m\u001b[0;34m,\u001b[0m \u001b[0mazth\u001b[0m\u001b[0;34m,\u001b[0m \u001b[0mlat\u001b[0m\u001b[0;34m,\u001b[0m \u001b[0moffset\u001b[0m\u001b[0;34m)\u001b[0m\u001b[0;34m\u001b[0m\u001b[0;34m\u001b[0m\u001b[0m\n\u001b[0m\u001b[1;32m    200\u001b[0m         \u001b[0mgap_fiber_pts\u001b[0m\u001b[0;34m,\u001b[0m \u001b[0mgap_fiber_len\u001b[0m \u001b[0;34m=\u001b[0m \u001b[0mmkfiber\u001b[0m\u001b[0;34m(\u001b[0m\u001b[0mdims\u001b[0m\u001b[0;34m,\u001b[0m \u001b[0mlength\u001b[0m\u001b[0;34m,\u001b[0m \u001b[0mradius\u001b[0m \u001b[0;34m+\u001b[0m \u001b[0mgap\u001b[0m\u001b[0;34m,\u001b[0m \u001b[0mazth\u001b[0m\u001b[0;34m,\u001b[0m \u001b[0mlat\u001b[0m\u001b[0;34m,\u001b[0m \u001b[0moffset\u001b[0m\u001b[0;34m)\u001b[0m\u001b[0;34m\u001b[0m\u001b[0;34m\u001b[0m\u001b[0m\n\u001b[1;32m    201\u001b[0m \u001b[0;34m\u001b[0m\u001b[0m\n",
      "\u001b[0;32m~/Documents/projets_personnels/quanfima/quanfima/simulation.py\u001b[0m in \u001b[0;36mmkfiber\u001b[0;34m(dims_size, length, radius, azth, lat, offset_xyz)\u001b[0m\n\u001b[1;32m     99\u001b[0m     \u001b[0;31m###\u001b[0m\u001b[0;34m\u001b[0m\u001b[0;34m\u001b[0m\u001b[0;34m\u001b[0m\u001b[0m\n\u001b[1;32m    100\u001b[0m     slices_pts = np.round(np.array([slice_pts + step_shift + center_shift\n\u001b[0;32m--> 101\u001b[0;31m                                         for step_shift in step_shifts]))\n\u001b[0m\u001b[1;32m    102\u001b[0m \u001b[0;34m\u001b[0m\u001b[0m\n\u001b[1;32m    103\u001b[0m     \u001b[0;31m# Filter all the points which are outside the boundary\u001b[0m\u001b[0;34m\u001b[0m\u001b[0;34m\u001b[0m\u001b[0;34m\u001b[0m\u001b[0m\n",
      "\u001b[0;32m~/Documents/projets_personnels/quanfima/quanfima/simulation.py\u001b[0m in \u001b[0;36m<listcomp>\u001b[0;34m(.0)\u001b[0m\n\u001b[1;32m     99\u001b[0m     \u001b[0;31m###\u001b[0m\u001b[0;34m\u001b[0m\u001b[0;34m\u001b[0m\u001b[0;34m\u001b[0m\u001b[0m\n\u001b[1;32m    100\u001b[0m     slices_pts = np.round(np.array([slice_pts + step_shift + center_shift\n\u001b[0;32m--> 101\u001b[0;31m                                         for step_shift in step_shifts]))\n\u001b[0m\u001b[1;32m    102\u001b[0m \u001b[0;34m\u001b[0m\u001b[0m\n\u001b[1;32m    103\u001b[0m     \u001b[0;31m# Filter all the points which are outside the boundary\u001b[0m\u001b[0;34m\u001b[0m\u001b[0;34m\u001b[0m\u001b[0;34m\u001b[0m\u001b[0m\n",
      "\u001b[0;31mTypeError\u001b[0m: unsupported operand type(s) for +: 'zip' and 'float'"
     ]
    }
   ],
   "source": [
    "volume, lat_ref, azth_ref, diameter, _, _ = \\\n",
    "          simulation.simulate_fibers((128,128,128), n_fibers=30, max_fails=100,\n",
    "                                     radius_lim=(2, 3), gap_lim=(3,5))\n",
    "volume = volume.astype(np.uint8)\n",
    "volume = ndi.binary_fill_holes(volume)\n",
    "volume = ndi.median_filter(volume, footprint=morphology.ball(2))\n",
    "lat_ref = ndi.median_filter(lat_ref, footprint=morphology.ball(2))\n",
    "azth_ref = ndi.median_filter(azth_ref, footprint=morphology.ball(2))\n",
    "\n",
    "# prepare data and analyze fibers\n",
    "pdata, pskel, pskel_thick = utils.prepare_data(volume)\n",
    "oprops =  mrph.estimate_tensor_parallel('dataset_orientation_w36',\n",
    "                                        pskel, pskel_thick, 36,\n",
    "                                        '../../data/results')\n",
    "\n",
    "odata = np.load(oprops['output_path']).item()\n",
    "lat, azth, skel = odata['lat'], odata['azth'], odata['skeleton']\n",
    "\n",
    "dprops = mrph.estimate_diameter_single_run('dataset_diameter',\n",
    "                                           '../../data/results',\n",
    "                                           pdata, skel, lat, azth)\n",
    "dmtr = np.load(dprops['output_path']).item()['diameter']\n",
    "\n",
    "# plot results\n",
    "vis.plot_3d_orientation_map('dataset_w36', lat, azth,\n",
    "                            output_dir='../../data/results',\n",
    "                            camera_azth=40.47,\n",
    "                            camera_elev=32.5,\n",
    "                            camera_fov=35.0,\n",
    "                            camera_loc=(40.85, 46.32, 28.85),\n",
    "                            camera_zoom=0.005124)\n",
    "\n",
    "vis.plot_3d_diameter_map('dataset_w36', dmtr,\n",
    "                         output_dir='../../data/results',\n",
    "                         measure_quantity='vox',\n",
    "                         camera_azth=40.47,\n",
    "                         camera_elev=32.5,\n",
    "                         camera_fov=35.0,\n",
    "                         camera_loc=(40.85, 46.32, 28.85),\n",
    "                         camera_zoom=0.005124,\n",
    "                         cb_x_offset=5,\n",
    "                         width=620)"
   ]
  },
  {
   "cell_type": "code",
   "execution_count": 41,
   "metadata": {},
   "outputs": [],
   "source": [
    "test = []"
   ]
  },
  {
   "cell_type": "code",
   "execution_count": 43,
   "metadata": {},
   "outputs": [
    {
     "data": {
      "text/plain": [
       "False"
      ]
     },
     "execution_count": 43,
     "metadata": {},
     "output_type": "execute_result"
    }
   ],
   "source": [
    "test is None"
   ]
  },
  {
   "cell_type": "code",
   "execution_count": null,
   "metadata": {},
   "outputs": [],
   "source": []
  }
 ],
 "metadata": {
  "kernelspec": {
   "display_name": "Python 3",
   "language": "python",
   "name": "python3"
  },
  "language_info": {
   "codemirror_mode": {
    "name": "ipython",
    "version": 3
   },
   "file_extension": ".py",
   "mimetype": "text/x-python",
   "name": "python",
   "nbconvert_exporter": "python",
   "pygments_lexer": "ipython3",
   "version": "3.7.3"
  }
 },
 "nbformat": 4,
 "nbformat_minor": 4
}
