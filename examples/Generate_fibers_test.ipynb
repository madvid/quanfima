{
 "cells": [
  {
   "cell_type": "code",
   "execution_count": 1,
   "id": "matched-message",
   "metadata": {
    "ExecuteTime": {
     "end_time": "2021-03-30T14:43:41.993441Z",
     "start_time": "2021-03-30T14:43:37.816414Z"
    }
   },
   "outputs": [],
   "source": [
    "import numpy as np\n",
    "from scipy import ndimage as ndi\n",
    "from skimage import morphology\n",
    "from quanfima import simulation\n",
    "from quanfima import morphology as mrph\n",
    "from quanfima import utils\n",
    "from quanfima import visualization as vis"
   ]
  },
  {
   "cell_type": "code",
   "execution_count": 2,
   "id": "fitted-algorithm",
   "metadata": {
    "ExecuteTime": {
     "end_time": "2021-03-30T14:43:43.183069Z",
     "start_time": "2021-03-30T14:43:43.177865Z"
    }
   },
   "outputs": [],
   "source": [
    "import matplotlib.pyplot as plt "
   ]
  },
  {
   "cell_type": "code",
   "execution_count": 3,
   "id": "transsexual-feeding",
   "metadata": {
    "ExecuteTime": {
     "end_time": "2021-03-30T14:43:55.737436Z",
     "start_time": "2021-03-30T14:43:43.399507Z"
    },
    "scrolled": true
   },
   "outputs": [],
   "source": [
    "result = simulation.simulate_fibers((128,128,128), \n",
    "                                    n_fibers=30, \n",
    "                                    max_fails=200,\n",
    "                                    radius_lim=(2, 3), \n",
    "                                    gap_lim=(3,5))"
   ]
  },
  {
   "cell_type": "code",
   "execution_count": 4,
   "id": "incident-senegal",
   "metadata": {
    "ExecuteTime": {
     "end_time": "2021-03-30T14:43:55.752750Z",
     "start_time": "2021-03-30T14:43:55.741425Z"
    }
   },
   "outputs": [],
   "source": [
    "# unpacking result\n",
    "volume = result[0]\n",
    "lat_ref = result[1]\n",
    "azth_ref = result[2]\n",
    "diameter = result[3]\n",
    "n_generated = result[4]\n",
    "elapsed_time = result[5]"
   ]
  },
  {
   "cell_type": "code",
   "execution_count": 5,
   "id": "visible-metropolitan",
   "metadata": {
    "ExecuteTime": {
     "end_time": "2021-03-30T14:43:55.768783Z",
     "start_time": "2021-03-30T14:43:55.757689Z"
    }
   },
   "outputs": [
    {
     "data": {
      "text/plain": [
       "30"
      ]
     },
     "execution_count": 5,
     "metadata": {},
     "output_type": "execute_result"
    }
   ],
   "source": [
    "n_generated"
   ]
  },
  {
   "cell_type": "code",
   "execution_count": 6,
   "id": "potential-communications",
   "metadata": {
    "ExecuteTime": {
     "end_time": "2021-03-30T14:43:55.799822Z",
     "start_time": "2021-03-30T14:43:55.774014Z"
    }
   },
   "outputs": [],
   "source": [
    "volume = volume.astype(np.uint8)"
   ]
  },
  {
   "cell_type": "code",
   "execution_count": 7,
   "id": "referenced-title",
   "metadata": {
    "ExecuteTime": {
     "end_time": "2021-03-30T14:43:55.815822Z",
     "start_time": "2021-03-30T14:43:55.803741Z"
    }
   },
   "outputs": [
    {
     "data": {
      "text/plain": [
       "(128, 128, 128)"
      ]
     },
     "execution_count": 7,
     "metadata": {},
     "output_type": "execute_result"
    }
   ],
   "source": [
    "volume.shape"
   ]
  },
  {
   "cell_type": "code",
   "execution_count": 8,
   "id": "saving-ecology",
   "metadata": {
    "ExecuteTime": {
     "end_time": "2021-03-30T14:43:55.847222Z",
     "start_time": "2021-03-30T14:43:55.818657Z"
    }
   },
   "outputs": [],
   "source": [
    "from TexNet.utils import plot_slices"
   ]
  },
  {
   "cell_type": "code",
   "execution_count": 9,
   "id": "cathedral-determination",
   "metadata": {
    "ExecuteTime": {
     "end_time": "2021-03-30T14:43:56.311638Z",
     "start_time": "2021-03-30T14:43:55.850214Z"
    }
   },
   "outputs": [
    {
     "data": {
      "image/png": "[encoded data removed]",
      "text/plain": [
       "<Figure size 864x288 with 3 Axes>"
      ]
     },
     "execution_count": 9,
     "metadata": {},
     "output_type": "execute_result"
    }
   ],
   "source": [
    "plot_slices(volume)"
   ]
  },
  {
   "cell_type": "code",
   "execution_count": 10,
   "id": "cooked-seventh",
   "metadata": {
    "ExecuteTime": {
     "end_time": "2021-03-30T14:44:00.904773Z",
     "start_time": "2021-03-30T14:44:00.152296Z"
    }
   },
   "outputs": [],
   "source": [
    "volume = ndi.binary_fill_holes(volume)\n",
    "volume = ndi.median_filter(volume, footprint=morphology.ball(2))"
   ]
  },
  {
   "cell_type": "code",
   "execution_count": 11,
   "id": "incomplete-antibody",
   "metadata": {
    "ExecuteTime": {
     "end_time": "2021-03-30T14:44:10.172556Z",
     "start_time": "2021-03-30T14:44:09.918224Z"
    },
    "scrolled": true
   },
   "outputs": [
    {
     "data": {
      "image/png": "[encoded data removed]",
      "text/plain": [
       "<Figure size 864x288 with 3 Axes>"
      ]
     },
     "execution_count": 11,
     "metadata": {},
     "output_type": "execute_result"
    }
   ],
   "source": [
    "plot_slices(volume)"
   ]
  },
  {
   "cell_type": "code",
   "execution_count": 20,
   "id": "dense-lawrence",
   "metadata": {
    "ExecuteTime": {
     "end_time": "2021-03-30T14:35:58.928790Z",
     "start_time": "2021-03-30T14:35:58.893250Z"
    }
   },
   "outputs": [],
   "source": [
    "from TexNet.utils import save_volume"
   ]
  },
  {
   "cell_type": "code",
   "execution_count": 22,
   "id": "solid-disorder",
   "metadata": {
    "ExecuteTime": {
     "end_time": "2021-03-30T14:36:58.089674Z",
     "start_time": "2021-03-30T14:36:57.681208Z"
    }
   },
   "outputs": [],
   "source": [
    "save_volume(volume, 'test')"
   ]
  },
  {
   "cell_type": "code",
   "execution_count": null,
   "id": "tropical-calculation",
   "metadata": {},
   "outputs": [],
   "source": []
  },
  {
   "cell_type": "code",
   "execution_count": null,
   "id": "married-oxygen",
   "metadata": {},
   "outputs": [],
   "source": [
    "lat_ref = ndi.median_filter(lat_ref, footprint=morphology.ball(2))\n",
    "azth_ref = ndi.median_filter(azth_ref, footprint=morphology.ball(2))\n"
   ]
  },
  {
   "cell_type": "code",
   "execution_count": null,
   "id": "nuclear-relief",
   "metadata": {},
   "outputs": [],
   "source": [
    "# prepare data and analyze fibers\n",
    "pdata, pskel, pskel_thick = utils.prepare_data(volume)\n"
   ]
  },
  {
   "cell_type": "code",
   "execution_count": null,
   "id": "designed-lloyd",
   "metadata": {},
   "outputs": [],
   "source": [
    "#oprops =  mrph.estimate_tensor_parallel('dataset_orientation_w36',\n",
    "#\t\t\t\t\t\t\t\t\t\tpskel, pskel_thick, 36,\n",
    "#\t\t\t\t\t\t\t\t\t\t'../../data/results')\n",
    "oprops =  mrph.estimate_tensor_parallel('dataset_orientation_w36',\n",
    "\t\t\t\t\t\t\t\t\t\tpskel, pskel_thick, 36,\n",
    "\t\t\t\t\t\t\t\t\t\t'data/results')\n",
    "\n"
   ]
  },
  {
   "cell_type": "code",
   "execution_count": null,
   "id": "reserved-nepal",
   "metadata": {},
   "outputs": [],
   "source": []
  },
  {
   "cell_type": "code",
   "execution_count": null,
   "id": "secure-entry",
   "metadata": {},
   "outputs": [],
   "source": [
    "odata = np.load(oprops['output_path'], allow_pickle=True).item()\n",
    "lat, azth, skel = odata['lat'], odata['azth'], odata['skeleton']\n",
    "\n"
   ]
  },
  {
   "cell_type": "code",
   "execution_count": null,
   "id": "suburban-person",
   "metadata": {},
   "outputs": [],
   "source": [
    "dprops = mrph.estimate_diameter_single_run('dataset_diameter',\n",
    "\t\t\t\t\t\t\t\t\t\t   'data/results',\n",
    "\t\t\t\t\t\t\t\t\t\t   pdata, skel, lat, azth)\n",
    "#dmtr = np.load(dprops['output_path']).item()['diameter']"
   ]
  },
  {
   "cell_type": "code",
   "execution_count": null,
   "id": "million-guess",
   "metadata": {},
   "outputs": [],
   "source": [
    "# plot results\n",
    "vis.plot_3d_orientation_map('dataset_w36', lat, azth,\n",
    "\t\t\t\t\t\t\toutput_dir='data/results',\n",
    "\t\t\t\t\t\t\tcamera_azth=40.47,\n",
    "\t\t\t\t\t\t\tcamera_elev=32.5,\n",
    "\t\t\t\t\t\t\tcamera_fov=35.0,\n",
    "\t\t\t\t\t\t\tcamera_loc=(40.85, 46.32, 28.85),\n",
    "\t\t\t\t\t\t\tcamera_zoom=0.005124)\n",
    "\n",
    "#vis.plot_3d_diameter_map('dataset_w36', dmtr,\n",
    "#\t\t\t\t\t\t output_dir='/data/results',\n",
    "#\t\t\t\t\t\t measure_quantity='vox',\n",
    "#\t\t\t\t\t\t camera_azth=40.47,\n",
    "#\t\t\t\t\t\t camera_elev=32.5,\n",
    "#\t\t\t\t\t\t camera_fov=35.0,\n",
    "#\t\t\t\t\t\t camera_loc=(40.85, 46.32, 28.85),\n",
    "#\t\t\t\t\t\t camera_zoom=0.005124,\n",
    "#\t\t\t\t\t\t cb_x_offset=5,\n",
    "#\t\t\t\t\t\t width=620)"
   ]
  }
 ],
 "metadata": {
  "hide_input": false,
  "kernelspec": {
   "display_name": "Python 3",
   "language": "python",
   "name": "python3"
  },
  "language_info": {
   "codemirror_mode": {
    "name": "ipython",
    "version": 3
   },
   "file_extension": ".py",
   "mimetype": "text/x-python",
   "name": "python",
   "nbconvert_exporter": "python",
   "pygments_lexer": "ipython3",
   "version": "3.7.10"
  },
  "latex_envs": {
   "LaTeX_envs_menu_present": true,
   "autoclose": false,
   "autocomplete": true,
   "bibliofile": "biblio.bib",
   "cite_by": "apalike",
   "current_citInitial": 1,
   "eqLabelWithNumbers": true,
   "eqNumInitial": 1,
   "hotkeys": {
    "equation": "Ctrl-E",
    "itemize": "Ctrl-I"
   },
   "labels_anchors": false,
   "latex_user_defs": false,
   "report_style_numbering": false,
   "user_envs_cfg": false
  },
  "toc": {
   "base_numbering": 1,
   "nav_menu": {},
   "number_sections": true,
   "sideBar": true,
   "skip_h1_title": false,
   "title_cell": "Table of Contents",
   "title_sidebar": "Contents",
   "toc_cell": false,
   "toc_position": {},
   "toc_section_display": true,
   "toc_window_display": false
  }
 },
 "nbformat": 4,
 "nbformat_minor": 5
}
