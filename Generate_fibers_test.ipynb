{
 "cells": [
  {
   "cell_type": "code",
   "execution_count": 1,
   "id": "physical-astrology",
   "metadata": {
    "ExecuteTime": {
     "end_time": "2021-03-30T14:03:18.680811Z",
     "start_time": "2021-03-30T14:03:14.197569Z"
    }
   },
   "outputs": [],
   "source": [
    "import numpy as np\n",
    "from scipy import ndimage as ndi\n",
    "from skimage import morphology\n",
    "from quanfima import simulation\n",
    "from quanfima import morphology as mrph\n",
    "from quanfima import utils\n",
    "from quanfima import visualization as vis"
   ]
  },
  {
   "cell_type": "code",
   "execution_count": 2,
   "id": "favorite-eligibility",
   "metadata": {
    "ExecuteTime": {
     "end_time": "2021-03-30T14:03:18.695975Z",
     "start_time": "2021-03-30T14:03:18.683804Z"
    }
   },
   "outputs": [],
   "source": [
    "import matplotlib.pyplot as plt "
   ]
  },
  {
   "cell_type": "code",
   "execution_count": 3,
   "id": "potential-stuff",
   "metadata": {
    "ExecuteTime": {
     "end_time": "2021-03-30T14:03:32.448420Z",
     "start_time": "2021-03-30T14:03:18.700754Z"
    },
    "scrolled": true
   },
   "outputs": [],
   "source": [
    "result = simulation.simulate_fibers((128,128,128), \n",
    "                                    n_fibers=30, \n",
    "                                    max_fails=200,\n",
    "                                    radius_lim=(2, 3), \n",
    "                                    gap_lim=(3,5))"
   ]
  },
  {
   "cell_type": "code",
   "execution_count": 4,
   "id": "induced-investigation",
   "metadata": {
    "ExecuteTime": {
     "end_time": "2021-03-30T14:03:42.065247Z",
     "start_time": "2021-03-30T14:03:42.049534Z"
    }
   },
   "outputs": [],
   "source": [
    "# unpacking result\n",
    "volume = result[0]\n",
    "lat_ref = result[1]\n",
    "azth_ref = result[2]\n",
    "diameter = result[3]\n",
    "n_generated = result[4]\n",
    "elapsed_time = result[5]"
   ]
  },
  {
   "cell_type": "code",
   "execution_count": 5,
   "id": "educational-malpractice",
   "metadata": {
    "ExecuteTime": {
     "end_time": "2021-03-30T14:03:42.348836Z",
     "start_time": "2021-03-30T14:03:42.334278Z"
    }
   },
   "outputs": [
    {
     "data": {
      "text/plain": [
       "30"
      ]
     },
     "execution_count": 5,
     "metadata": {},
     "output_type": "execute_result"
    }
   ],
   "source": [
    "n_generated"
   ]
  },
  {
   "cell_type": "code",
   "execution_count": 6,
   "id": "coupled-active",
   "metadata": {
    "ExecuteTime": {
     "end_time": "2021-03-30T14:03:42.560207Z",
     "start_time": "2021-03-30T14:03:42.547764Z"
    }
   },
   "outputs": [],
   "source": [
    "volume = volume.astype(np.uint8)"
   ]
  },
  {
   "cell_type": "code",
   "execution_count": 7,
   "id": "higher-individual",
   "metadata": {
    "ExecuteTime": {
     "end_time": "2021-03-30T14:03:43.415801Z",
     "start_time": "2021-03-30T14:03:43.401255Z"
    }
   },
   "outputs": [
    {
     "data": {
      "text/plain": [
       "(128, 128, 128)"
      ]
     },
     "execution_count": 7,
     "metadata": {},
     "output_type": "execute_result"
    }
   ],
   "source": [
    "volume.shape"
   ]
  },
  {
   "cell_type": "code",
   "execution_count": 8,
   "id": "separated-typing",
   "metadata": {
    "ExecuteTime": {
     "end_time": "2021-03-30T14:03:44.548208Z",
     "start_time": "2021-03-30T14:03:44.163025Z"
    }
   },
   "outputs": [
    {
     "data": {
      "image/png": "[encoded data removed]",
      "text/plain": [
       "<Figure size 864x288 with 3 Axes>"
      ]
     },
     "metadata": {
      "needs_background": "light"
     },
     "output_type": "display_data"
    }
   ],
   "source": [
    "fig, axs = plt.subplots(1,3, figsize=(12,4))\n",
    "for i in range(volume.ndim): \n",
    "    sl = np.take(volume, volume.shape[i]//2, i)\n",
    "    axs[i].imshow(sl, cmap = 'gray')\n",
    "    axs[i].axis('off')"
   ]
  },
  {
   "cell_type": "code",
   "execution_count": 9,
   "id": "printable-frank",
   "metadata": {
    "ExecuteTime": {
     "end_time": "2021-03-30T14:03:47.397143Z",
     "start_time": "2021-03-30T14:03:46.677015Z"
    }
   },
   "outputs": [],
   "source": [
    "volume = ndi.binary_fill_holes(volume)\n",
    "volume = ndi.median_filter(volume, footprint=morphology.ball(2))"
   ]
  },
  {
   "cell_type": "code",
   "execution_count": 10,
   "id": "fundamental-visitor",
   "metadata": {
    "ExecuteTime": {
     "end_time": "2021-03-30T14:03:47.932946Z",
     "start_time": "2021-03-30T14:03:47.400640Z"
    }
   },
   "outputs": [
    {
     "data": {
      "image/png": "[encoded data removed]",
      "text/plain": [
       "<Figure size 864x288 with 3 Axes>"
      ]
     },
     "metadata": {
      "needs_background": "light"
     },
     "output_type": "display_data"
    }
   ],
   "source": [
    "fig, axs = plt.subplots(1,3, figsize=(12,4))\n",
    "for i in range(volume.ndim): \n",
    "    sl = np.take(volume, volume.shape[i]//2, i)\n",
    "    axs[i].imshow(sl, cmap = 'gray')\n",
    "    axs[i].axis('off')"
   ]
  },
  {
   "cell_type": "code",
   "execution_count": null,
   "id": "derived-nevada",
   "metadata": {},
   "outputs": [],
   "source": [
    "lat_ref = ndi.median_filter(lat_ref, footprint=morphology.ball(2))\n",
    "azth_ref = ndi.median_filter(azth_ref, footprint=morphology.ball(2))\n"
   ]
  },
  {
   "cell_type": "code",
   "execution_count": null,
   "id": "received-entry",
   "metadata": {},
   "outputs": [],
   "source": [
    "# prepare data and analyze fibers\n",
    "pdata, pskel, pskel_thick = utils.prepare_data(volume)\n"
   ]
  },
  {
   "cell_type": "code",
   "execution_count": null,
   "id": "classical-consultation",
   "metadata": {},
   "outputs": [],
   "source": [
    "#oprops =  mrph.estimate_tensor_parallel('dataset_orientation_w36',\n",
    "#\t\t\t\t\t\t\t\t\t\tpskel, pskel_thick, 36,\n",
    "#\t\t\t\t\t\t\t\t\t\t'../../data/results')\n",
    "oprops =  mrph.estimate_tensor_parallel('dataset_orientation_w36',\n",
    "\t\t\t\t\t\t\t\t\t\tpskel, pskel_thick, 36,\n",
    "\t\t\t\t\t\t\t\t\t\t'data/results')\n",
    "\n"
   ]
  },
  {
   "cell_type": "code",
   "execution_count": null,
   "id": "brutal-pearl",
   "metadata": {},
   "outputs": [],
   "source": []
  },
  {
   "cell_type": "code",
   "execution_count": null,
   "id": "martial-taxation",
   "metadata": {},
   "outputs": [],
   "source": [
    "odata = np.load(oprops['output_path'], allow_pickle=True).item()\n",
    "lat, azth, skel = odata['lat'], odata['azth'], odata['skeleton']\n",
    "\n"
   ]
  },
  {
   "cell_type": "code",
   "execution_count": null,
   "id": "dietary-mortgage",
   "metadata": {},
   "outputs": [],
   "source": [
    "dprops = mrph.estimate_diameter_single_run('dataset_diameter',\n",
    "\t\t\t\t\t\t\t\t\t\t   'data/results',\n",
    "\t\t\t\t\t\t\t\t\t\t   pdata, skel, lat, azth)\n",
    "#dmtr = np.load(dprops['output_path']).item()['diameter']"
   ]
  },
  {
   "cell_type": "code",
   "execution_count": null,
   "id": "incredible-protection",
   "metadata": {},
   "outputs": [],
   "source": [
    "# plot results\n",
    "vis.plot_3d_orientation_map('dataset_w36', lat, azth,\n",
    "\t\t\t\t\t\t\toutput_dir='data/results',\n",
    "\t\t\t\t\t\t\tcamera_azth=40.47,\n",
    "\t\t\t\t\t\t\tcamera_elev=32.5,\n",
    "\t\t\t\t\t\t\tcamera_fov=35.0,\n",
    "\t\t\t\t\t\t\tcamera_loc=(40.85, 46.32, 28.85),\n",
    "\t\t\t\t\t\t\tcamera_zoom=0.005124)\n",
    "\n",
    "#vis.plot_3d_diameter_map('dataset_w36', dmtr,\n",
    "#\t\t\t\t\t\t output_dir='/data/results',\n",
    "#\t\t\t\t\t\t measure_quantity='vox',\n",
    "#\t\t\t\t\t\t camera_azth=40.47,\n",
    "#\t\t\t\t\t\t camera_elev=32.5,\n",
    "#\t\t\t\t\t\t camera_fov=35.0,\n",
    "#\t\t\t\t\t\t camera_loc=(40.85, 46.32, 28.85),\n",
    "#\t\t\t\t\t\t camera_zoom=0.005124,\n",
    "#\t\t\t\t\t\t cb_x_offset=5,\n",
    "#\t\t\t\t\t\t width=620)"
   ]
  }
 ],
 "metadata": {
  "hide_input": false,
  "kernelspec": {
   "display_name": "Python 3",
   "language": "python",
   "name": "python3"
  },
  "language_info": {
   "codemirror_mode": {
    "name": "ipython",
    "version": 3
   },
   "file_extension": ".py",
   "mimetype": "text/x-python",
   "name": "python",
   "nbconvert_exporter": "python",
   "pygments_lexer": "ipython3",
   "version": "3.7.10"
  },
  "latex_envs": {
   "LaTeX_envs_menu_present": true,
   "autoclose": false,
   "autocomplete": true,
   "bibliofile": "biblio.bib",
   "cite_by": "apalike",
   "current_citInitial": 1,
   "eqLabelWithNumbers": true,
   "eqNumInitial": 1,
   "hotkeys": {
    "equation": "Ctrl-E",
    "itemize": "Ctrl-I"
   },
   "labels_anchors": false,
   "latex_user_defs": false,
   "report_style_numbering": false,
   "user_envs_cfg": false
  },
  "toc": {
   "base_numbering": 1,
   "nav_menu": {},
   "number_sections": true,
   "sideBar": true,
   "skip_h1_title": false,
   "title_cell": "Table of Contents",
   "title_sidebar": "Contents",
   "toc_cell": false,
   "toc_position": {},
   "toc_section_display": true,
   "toc_window_display": false
  }
 },
 "nbformat": 4,
 "nbformat_minor": 5
}
