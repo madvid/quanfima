{
 "cells": [
  {
   "cell_type": "code",
   "execution_count": 1,
   "id": "instant-vitamin",
   "metadata": {
    "ExecuteTime": {
     "end_time": "2021-03-30T13:29:53.936154Z",
     "start_time": "2021-03-30T13:29:49.340407Z"
    }
   },
   "outputs": [],
   "source": [
    "import numpy as np\n",
    "from scipy import ndimage as ndi\n",
    "from skimage import morphology\n",
    "from quanfima import simulation\n",
    "from quanfima import morphology as mrph\n",
    "from quanfima import utils\n",
    "from quanfima import visualization as vis"
   ]
  },
  {
   "cell_type": "code",
   "execution_count": 5,
   "id": "beautiful-console",
   "metadata": {
    "ExecuteTime": {
     "end_time": "2021-03-30T13:31:14.942000Z",
     "start_time": "2021-03-30T13:31:14.935987Z"
    }
   },
   "outputs": [],
   "source": [
    "import matplotlib.pyplot as plt "
   ]
  },
  {
   "cell_type": "code",
   "execution_count": null,
   "id": "motivated-perry",
   "metadata": {
    "ExecuteTime": {
     "start_time": "2021-03-30T13:50:05.816Z"
    },
    "scrolled": true
   },
   "outputs": [],
   "source": [
    "result = simulation.simulate_fibers((128,128,128), \n",
    "                                    n_fibers=30, \n",
    "                                    max_fails=200,\n",
    "                                    radius_lim=(3, 5), \n",
    "                                    gap_lim=(10,20))"
   ]
  },
  {
   "cell_type": "code",
   "execution_count": null,
   "id": "parliamentary-procedure",
   "metadata": {
    "ExecuteTime": {
     "end_time": "2021-03-30T13:48:29.942088Z",
     "start_time": "2021-03-30T13:42:52.268Z"
    }
   },
   "outputs": [],
   "source": [
    "# unpacking result\n",
    "volume = result[0]\n",
    "lat_ref = result[1]\n",
    "azth_ref = result[2]\n",
    "diameter = result[3]\n",
    "n_generated = result[4]\n",
    "elapsed_time = result[5]"
   ]
  },
  {
   "cell_type": "code",
   "execution_count": 25,
   "id": "fitting-agency",
   "metadata": {
    "ExecuteTime": {
     "end_time": "2021-03-30T13:42:26.172923Z",
     "start_time": "2021-03-30T13:42:26.159706Z"
    }
   },
   "outputs": [
    {
     "data": {
      "text/plain": [
       "30"
      ]
     },
     "execution_count": 25,
     "metadata": {},
     "output_type": "execute_result"
    }
   ],
   "source": [
    "n_generated"
   ]
  },
  {
   "cell_type": "code",
   "execution_count": 13,
   "id": "basic-hawaiian",
   "metadata": {
    "ExecuteTime": {
     "end_time": "2021-03-30T13:34:42.594465Z",
     "start_time": "2021-03-30T13:34:42.584082Z"
    }
   },
   "outputs": [],
   "source": [
    "volume = volume.astype(np.uint8)"
   ]
  },
  {
   "cell_type": "code",
   "execution_count": 22,
   "id": "functioning-louisville",
   "metadata": {
    "ExecuteTime": {
     "end_time": "2021-03-30T13:40:27.540372Z",
     "start_time": "2021-03-30T13:40:27.523123Z"
    }
   },
   "outputs": [
    {
     "data": {
      "text/plain": [
       "(128, 128, 128)"
      ]
     },
     "execution_count": 22,
     "metadata": {},
     "output_type": "execute_result"
    }
   ],
   "source": [
    "volume.shape"
   ]
  },
  {
   "cell_type": "code",
   "execution_count": 21,
   "id": "appropriate-colors",
   "metadata": {
    "ExecuteTime": {
     "end_time": "2021-03-30T13:40:06.057525Z",
     "start_time": "2021-03-30T13:40:05.747722Z"
    }
   },
   "outputs": [
    {
     "data": {
      "image/png": "[encoded data removed]",
      "text/plain": [
       "<Figure size 864x288 with 3 Axes>"
      ]
     },
     "metadata": {
      "needs_background": "light"
     },
     "output_type": "display_data"
    }
   ],
   "source": [
    "fig, axs = plt.subplots(1,3, figsize=(12,4))\n",
    "for i in range(volume.ndim): \n",
    "    sl = np.take(volume, volume.shape[i]//2, i)\n",
    "    axs[i].imshow(sl, cmap = 'gray')\n",
    "    axs[i].axis('off')"
   ]
  },
  {
   "cell_type": "code",
   "execution_count": 23,
   "id": "crucial-community",
   "metadata": {
    "ExecuteTime": {
     "end_time": "2021-03-30T13:40:50.807901Z",
     "start_time": "2021-03-30T13:40:50.195029Z"
    }
   },
   "outputs": [],
   "source": [
    "volume = ndi.binary_fill_holes(volume)\n",
    "volume = ndi.median_filter(volume, footprint=morphology.ball(2))"
   ]
  },
  {
   "cell_type": "code",
   "execution_count": 24,
   "id": "unnecessary-grass",
   "metadata": {
    "ExecuteTime": {
     "end_time": "2021-03-30T13:40:51.948250Z",
     "start_time": "2021-03-30T13:40:51.630086Z"
    }
   },
   "outputs": [
    {
     "data": {
      "image/png": "[encoded data removed]",
      "text/plain": [
       "<Figure size 864x288 with 3 Axes>"
      ]
     },
     "metadata": {
      "needs_background": "light"
     },
     "output_type": "display_data"
    }
   ],
   "source": [
    "fig, axs = plt.subplots(1,3, figsize=(12,4))\n",
    "for i in range(volume.ndim): \n",
    "    sl = np.take(volume, volume.shape[i]//2, i)\n",
    "    axs[i].imshow(sl, cmap = 'gray')\n",
    "    axs[i].axis('off')"
   ]
  },
  {
   "cell_type": "code",
   "execution_count": null,
   "id": "chinese-walnut",
   "metadata": {},
   "outputs": [],
   "source": [
    "lat_ref = ndi.median_filter(lat_ref, footprint=morphology.ball(2))\n",
    "azth_ref = ndi.median_filter(azth_ref, footprint=morphology.ball(2))\n"
   ]
  },
  {
   "cell_type": "code",
   "execution_count": null,
   "id": "occasional-maker",
   "metadata": {},
   "outputs": [],
   "source": [
    "# prepare data and analyze fibers\n",
    "pdata, pskel, pskel_thick = utils.prepare_data(volume)\n"
   ]
  },
  {
   "cell_type": "code",
   "execution_count": null,
   "id": "amazing-dispute",
   "metadata": {},
   "outputs": [],
   "source": [
    "#oprops =  mrph.estimate_tensor_parallel('dataset_orientation_w36',\n",
    "#\t\t\t\t\t\t\t\t\t\tpskel, pskel_thick, 36,\n",
    "#\t\t\t\t\t\t\t\t\t\t'../../data/results')\n",
    "oprops =  mrph.estimate_tensor_parallel('dataset_orientation_w36',\n",
    "\t\t\t\t\t\t\t\t\t\tpskel, pskel_thick, 36,\n",
    "\t\t\t\t\t\t\t\t\t\t'data/results')\n",
    "\n"
   ]
  },
  {
   "cell_type": "code",
   "execution_count": null,
   "id": "unusual-berry",
   "metadata": {},
   "outputs": [],
   "source": []
  },
  {
   "cell_type": "code",
   "execution_count": null,
   "id": "healthy-cedar",
   "metadata": {},
   "outputs": [],
   "source": [
    "odata = np.load(oprops['output_path'], allow_pickle=True).item()\n",
    "lat, azth, skel = odata['lat'], odata['azth'], odata['skeleton']\n",
    "\n"
   ]
  },
  {
   "cell_type": "code",
   "execution_count": null,
   "id": "spiritual-roommate",
   "metadata": {},
   "outputs": [],
   "source": [
    "dprops = mrph.estimate_diameter_single_run('dataset_diameter',\n",
    "\t\t\t\t\t\t\t\t\t\t   'data/results',\n",
    "\t\t\t\t\t\t\t\t\t\t   pdata, skel, lat, azth)\n",
    "#dmtr = np.load(dprops['output_path']).item()['diameter']"
   ]
  },
  {
   "cell_type": "code",
   "execution_count": null,
   "id": "smaller-liechtenstein",
   "metadata": {},
   "outputs": [],
   "source": [
    "# plot results\n",
    "vis.plot_3d_orientation_map('dataset_w36', lat, azth,\n",
    "\t\t\t\t\t\t\toutput_dir='data/results',\n",
    "\t\t\t\t\t\t\tcamera_azth=40.47,\n",
    "\t\t\t\t\t\t\tcamera_elev=32.5,\n",
    "\t\t\t\t\t\t\tcamera_fov=35.0,\n",
    "\t\t\t\t\t\t\tcamera_loc=(40.85, 46.32, 28.85),\n",
    "\t\t\t\t\t\t\tcamera_zoom=0.005124)\n",
    "\n",
    "#vis.plot_3d_diameter_map('dataset_w36', dmtr,\n",
    "#\t\t\t\t\t\t output_dir='/data/results',\n",
    "#\t\t\t\t\t\t measure_quantity='vox',\n",
    "#\t\t\t\t\t\t camera_azth=40.47,\n",
    "#\t\t\t\t\t\t camera_elev=32.5,\n",
    "#\t\t\t\t\t\t camera_fov=35.0,\n",
    "#\t\t\t\t\t\t camera_loc=(40.85, 46.32, 28.85),\n",
    "#\t\t\t\t\t\t camera_zoom=0.005124,\n",
    "#\t\t\t\t\t\t cb_x_offset=5,\n",
    "#\t\t\t\t\t\t width=620)"
   ]
  }
 ],
 "metadata": {
  "hide_input": false,
  "kernelspec": {
   "display_name": "Python 3",
   "language": "python",
   "name": "python3"
  },
  "language_info": {
   "codemirror_mode": {
    "name": "ipython",
    "version": 3
   },
   "file_extension": ".py",
   "mimetype": "text/x-python",
   "name": "python",
   "nbconvert_exporter": "python",
   "pygments_lexer": "ipython3",
   "version": "3.7.10"
  },
  "latex_envs": {
   "LaTeX_envs_menu_present": true,
   "autoclose": false,
   "autocomplete": true,
   "bibliofile": "biblio.bib",
   "cite_by": "apalike",
   "current_citInitial": 1,
   "eqLabelWithNumbers": true,
   "eqNumInitial": 1,
   "hotkeys": {
    "equation": "Ctrl-E",
    "itemize": "Ctrl-I"
   },
   "labels_anchors": false,
   "latex_user_defs": false,
   "report_style_numbering": false,
   "user_envs_cfg": false
  },
  "toc": {
   "base_numbering": 1,
   "nav_menu": {},
   "number_sections": true,
   "sideBar": true,
   "skip_h1_title": false,
   "title_cell": "Table of Contents",
   "title_sidebar": "Contents",
   "toc_cell": false,
   "toc_position": {},
   "toc_section_display": true,
   "toc_window_display": false
  }
 },
 "nbformat": 4,
 "nbformat_minor": 5
}
